{
 "cells": [
  {
   "cell_type": "markdown",
   "metadata": {},
   "source": [
    "# 2020/21 English Premier League Players Data Analysis\n",
    "#### By: Guilherme Teixeira de Mello\n",
    "\n",
    "### Summary:\n",
    "* Introduction\n",
    "* Data Preparation\n",
    "    * Gather\n",
    "    * Assess\n",
    "    * Clean\n",
    "* Data Analysis\n",
    "* Conclusion"
   ]
  },
  {
   "cell_type": "markdown",
   "metadata": {},
   "source": [
    "## Introduction\n",
    "\n",
    "> This project was made in order to understand how some English Premier League players performed throughout the season, and here I will use data [from this Kaggle page.](https://www.kaggle.com/rajatrc1705/english-premier-league202021)\n",
    "\n",
    "The data has some interesting variables that I would like to consider when posing some questions, for example, here we have columns for which `Club` the player plays for, the `Nationality` of the player, the `Position` in which the player is most confortable playing, the number of `Goals` and `Assists` each player has taken and given, respectivelly, and some other interesting variables that can give us some more in-depth understanding about Premier league players.\n",
    "\n",
    "##### Some questions that I would like to answer after analysing this dataset:\n",
    "* Which players has improved more from the expected goals to actual getting goals\n",
    "* Which teams had more players outperforming during the league\n",
    "* Which teams have the most passes completed rate when we do not consider defenders and goalkeepers\n",
    "* What are the countries with more players in the English Premier League this season?\n",
    "* Which clubs made more goals this season, and what were the expected goals for them? in which way can we compare the expected goals and actual goals made by club?\n",
    "* What are the players that scored more goals? What are the players that did better and worse comparing their actual goals scored and the expected goals?\n",
    "\n"
   ]
  },
  {
   "cell_type": "markdown",
   "metadata": {},
   "source": [
    "## Data Preparation\n",
    "\n",
    "#### Data Gathering"
   ]
  },
  {
   "cell_type": "code",
   "execution_count": 1,
   "metadata": {},
   "outputs": [],
   "source": [
    "import numpy as np\n",
    "import pandas as pd\n",
    "import matplotlib.pyplot as plt\n",
    "import seaborn as sns\n",
    "\n",
    "%matplotlib inline"
   ]
  },
  {
   "cell_type": "code",
   "execution_count": 2,
   "metadata": {},
   "outputs": [],
   "source": [
    "color = sns.color_palette('tab10')[0]"
   ]
  },
  {
   "cell_type": "code",
   "execution_count": 3,
   "metadata": {},
   "outputs": [
    {
     "name": "stdout",
     "output_type": "stream",
     "text": [
      "(532, 18)\n"
     ]
    },
    {
     "data": {
      "text/html": [
       "<div>\n",
       "<style scoped>\n",
       "    .dataframe tbody tr th:only-of-type {\n",
       "        vertical-align: middle;\n",
       "    }\n",
       "\n",
       "    .dataframe tbody tr th {\n",
       "        vertical-align: top;\n",
       "    }\n",
       "\n",
       "    .dataframe thead th {\n",
       "        text-align: right;\n",
       "    }\n",
       "</style>\n",
       "<table border=\"1\" class=\"dataframe\">\n",
       "  <thead>\n",
       "    <tr style=\"text-align: right;\">\n",
       "      <th></th>\n",
       "      <th>Name</th>\n",
       "      <th>Club</th>\n",
       "      <th>Nationality</th>\n",
       "      <th>Position</th>\n",
       "      <th>Age</th>\n",
       "      <th>Matches</th>\n",
       "      <th>Starts</th>\n",
       "      <th>Mins</th>\n",
       "      <th>Goals</th>\n",
       "      <th>Assists</th>\n",
       "      <th>Passes_Attempted</th>\n",
       "      <th>Perc_Passes_Completed</th>\n",
       "      <th>Penalty_Goals</th>\n",
       "      <th>Penalty_Attempted</th>\n",
       "      <th>xG</th>\n",
       "      <th>xA</th>\n",
       "      <th>Yellow_Cards</th>\n",
       "      <th>Red_Cards</th>\n",
       "    </tr>\n",
       "  </thead>\n",
       "  <tbody>\n",
       "    <tr>\n",
       "      <td>0</td>\n",
       "      <td>Mason Mount</td>\n",
       "      <td>Chelsea</td>\n",
       "      <td>ENG</td>\n",
       "      <td>MF,FW</td>\n",
       "      <td>21</td>\n",
       "      <td>36</td>\n",
       "      <td>32</td>\n",
       "      <td>2890</td>\n",
       "      <td>6</td>\n",
       "      <td>5</td>\n",
       "      <td>1881</td>\n",
       "      <td>82.3</td>\n",
       "      <td>1</td>\n",
       "      <td>1</td>\n",
       "      <td>0.21</td>\n",
       "      <td>0.24</td>\n",
       "      <td>2</td>\n",
       "      <td>0</td>\n",
       "    </tr>\n",
       "    <tr>\n",
       "      <td>1</td>\n",
       "      <td>Edouard Mendy</td>\n",
       "      <td>Chelsea</td>\n",
       "      <td>SEN</td>\n",
       "      <td>GK</td>\n",
       "      <td>28</td>\n",
       "      <td>31</td>\n",
       "      <td>31</td>\n",
       "      <td>2745</td>\n",
       "      <td>0</td>\n",
       "      <td>0</td>\n",
       "      <td>1007</td>\n",
       "      <td>84.6</td>\n",
       "      <td>0</td>\n",
       "      <td>0</td>\n",
       "      <td>0.00</td>\n",
       "      <td>0.00</td>\n",
       "      <td>2</td>\n",
       "      <td>0</td>\n",
       "    </tr>\n",
       "    <tr>\n",
       "      <td>2</td>\n",
       "      <td>Timo Werner</td>\n",
       "      <td>Chelsea</td>\n",
       "      <td>GER</td>\n",
       "      <td>FW</td>\n",
       "      <td>24</td>\n",
       "      <td>35</td>\n",
       "      <td>29</td>\n",
       "      <td>2602</td>\n",
       "      <td>6</td>\n",
       "      <td>8</td>\n",
       "      <td>826</td>\n",
       "      <td>77.2</td>\n",
       "      <td>0</td>\n",
       "      <td>0</td>\n",
       "      <td>0.41</td>\n",
       "      <td>0.21</td>\n",
       "      <td>2</td>\n",
       "      <td>0</td>\n",
       "    </tr>\n",
       "    <tr>\n",
       "      <td>3</td>\n",
       "      <td>Ben Chilwell</td>\n",
       "      <td>Chelsea</td>\n",
       "      <td>ENG</td>\n",
       "      <td>DF</td>\n",
       "      <td>23</td>\n",
       "      <td>27</td>\n",
       "      <td>27</td>\n",
       "      <td>2286</td>\n",
       "      <td>3</td>\n",
       "      <td>5</td>\n",
       "      <td>1806</td>\n",
       "      <td>78.6</td>\n",
       "      <td>0</td>\n",
       "      <td>0</td>\n",
       "      <td>0.10</td>\n",
       "      <td>0.11</td>\n",
       "      <td>3</td>\n",
       "      <td>0</td>\n",
       "    </tr>\n",
       "    <tr>\n",
       "      <td>4</td>\n",
       "      <td>Reece James</td>\n",
       "      <td>Chelsea</td>\n",
       "      <td>ENG</td>\n",
       "      <td>DF</td>\n",
       "      <td>20</td>\n",
       "      <td>32</td>\n",
       "      <td>25</td>\n",
       "      <td>2373</td>\n",
       "      <td>1</td>\n",
       "      <td>2</td>\n",
       "      <td>1987</td>\n",
       "      <td>85.0</td>\n",
       "      <td>0</td>\n",
       "      <td>0</td>\n",
       "      <td>0.06</td>\n",
       "      <td>0.12</td>\n",
       "      <td>3</td>\n",
       "      <td>0</td>\n",
       "    </tr>\n",
       "    <tr>\n",
       "      <td>5</td>\n",
       "      <td>César Azpilicueta</td>\n",
       "      <td>Chelsea</td>\n",
       "      <td>ESP</td>\n",
       "      <td>DF</td>\n",
       "      <td>30</td>\n",
       "      <td>26</td>\n",
       "      <td>24</td>\n",
       "      <td>2188</td>\n",
       "      <td>1</td>\n",
       "      <td>2</td>\n",
       "      <td>2015</td>\n",
       "      <td>87.5</td>\n",
       "      <td>0</td>\n",
       "      <td>0</td>\n",
       "      <td>0.03</td>\n",
       "      <td>0.11</td>\n",
       "      <td>5</td>\n",
       "      <td>1</td>\n",
       "    </tr>\n",
       "    <tr>\n",
       "      <td>6</td>\n",
       "      <td>N'Golo Kanté</td>\n",
       "      <td>Chelsea</td>\n",
       "      <td>FRA</td>\n",
       "      <td>MF</td>\n",
       "      <td>29</td>\n",
       "      <td>30</td>\n",
       "      <td>24</td>\n",
       "      <td>2146</td>\n",
       "      <td>0</td>\n",
       "      <td>2</td>\n",
       "      <td>1504</td>\n",
       "      <td>86.6</td>\n",
       "      <td>0</td>\n",
       "      <td>0</td>\n",
       "      <td>0.04</td>\n",
       "      <td>0.05</td>\n",
       "      <td>7</td>\n",
       "      <td>0</td>\n",
       "    </tr>\n",
       "    <tr>\n",
       "      <td>7</td>\n",
       "      <td>Jorginho</td>\n",
       "      <td>Chelsea</td>\n",
       "      <td>ITA</td>\n",
       "      <td>MF</td>\n",
       "      <td>28</td>\n",
       "      <td>28</td>\n",
       "      <td>23</td>\n",
       "      <td>2010</td>\n",
       "      <td>7</td>\n",
       "      <td>1</td>\n",
       "      <td>1739</td>\n",
       "      <td>89.5</td>\n",
       "      <td>7</td>\n",
       "      <td>9</td>\n",
       "      <td>0.31</td>\n",
       "      <td>0.09</td>\n",
       "      <td>2</td>\n",
       "      <td>0</td>\n",
       "    </tr>\n",
       "    <tr>\n",
       "      <td>8</td>\n",
       "      <td>Thiago Silva</td>\n",
       "      <td>Chelsea</td>\n",
       "      <td>BRA</td>\n",
       "      <td>DF</td>\n",
       "      <td>35</td>\n",
       "      <td>23</td>\n",
       "      <td>23</td>\n",
       "      <td>1935</td>\n",
       "      <td>2</td>\n",
       "      <td>0</td>\n",
       "      <td>1871</td>\n",
       "      <td>93.5</td>\n",
       "      <td>0</td>\n",
       "      <td>0</td>\n",
       "      <td>0.05</td>\n",
       "      <td>0.02</td>\n",
       "      <td>5</td>\n",
       "      <td>1</td>\n",
       "    </tr>\n",
       "    <tr>\n",
       "      <td>9</td>\n",
       "      <td>Kurt Zouma</td>\n",
       "      <td>Chelsea</td>\n",
       "      <td>FRA</td>\n",
       "      <td>DF</td>\n",
       "      <td>25</td>\n",
       "      <td>24</td>\n",
       "      <td>22</td>\n",
       "      <td>2029</td>\n",
       "      <td>5</td>\n",
       "      <td>0</td>\n",
       "      <td>1720</td>\n",
       "      <td>91.9</td>\n",
       "      <td>0</td>\n",
       "      <td>0</td>\n",
       "      <td>0.08</td>\n",
       "      <td>0.00</td>\n",
       "      <td>3</td>\n",
       "      <td>0</td>\n",
       "    </tr>\n",
       "  </tbody>\n",
       "</table>\n",
       "</div>"
      ],
      "text/plain": [
       "                Name     Club Nationality Position  Age  Matches  Starts  \\\n",
       "0        Mason Mount  Chelsea         ENG    MF,FW   21       36      32   \n",
       "1      Edouard Mendy  Chelsea         SEN       GK   28       31      31   \n",
       "2        Timo Werner  Chelsea         GER       FW   24       35      29   \n",
       "3       Ben Chilwell  Chelsea         ENG       DF   23       27      27   \n",
       "4        Reece James  Chelsea         ENG       DF   20       32      25   \n",
       "5  César Azpilicueta  Chelsea         ESP       DF   30       26      24   \n",
       "6       N'Golo Kanté  Chelsea         FRA       MF   29       30      24   \n",
       "7           Jorginho  Chelsea         ITA       MF   28       28      23   \n",
       "8       Thiago Silva  Chelsea         BRA       DF   35       23      23   \n",
       "9         Kurt Zouma  Chelsea         FRA       DF   25       24      22   \n",
       "\n",
       "   Mins  Goals  Assists  Passes_Attempted  Perc_Passes_Completed  \\\n",
       "0  2890      6        5              1881                   82.3   \n",
       "1  2745      0        0              1007                   84.6   \n",
       "2  2602      6        8               826                   77.2   \n",
       "3  2286      3        5              1806                   78.6   \n",
       "4  2373      1        2              1987                   85.0   \n",
       "5  2188      1        2              2015                   87.5   \n",
       "6  2146      0        2              1504                   86.6   \n",
       "7  2010      7        1              1739                   89.5   \n",
       "8  1935      2        0              1871                   93.5   \n",
       "9  2029      5        0              1720                   91.9   \n",
       "\n",
       "   Penalty_Goals  Penalty_Attempted    xG    xA  Yellow_Cards  Red_Cards  \n",
       "0              1                  1  0.21  0.24             2          0  \n",
       "1              0                  0  0.00  0.00             2          0  \n",
       "2              0                  0  0.41  0.21             2          0  \n",
       "3              0                  0  0.10  0.11             3          0  \n",
       "4              0                  0  0.06  0.12             3          0  \n",
       "5              0                  0  0.03  0.11             5          1  \n",
       "6              0                  0  0.04  0.05             7          0  \n",
       "7              7                  9  0.31  0.09             2          0  \n",
       "8              0                  0  0.05  0.02             5          1  \n",
       "9              0                  0  0.08  0.00             3          0  "
      ]
     },
     "execution_count": 3,
     "metadata": {},
     "output_type": "execute_result"
    }
   ],
   "source": [
    "df = pd.read_csv('EPL_20_21.csv')\n",
    "print(df.shape)\n",
    "df.head(10)"
   ]
  },
  {
   "cell_type": "code",
   "execution_count": 4,
   "metadata": {},
   "outputs": [
    {
     "data": {
      "text/plain": [
       "Index(['Name', 'Club', 'Nationality', 'Position', 'Age', 'Matches', 'Starts',\n",
       "       'Mins', 'Goals', 'Assists', 'Passes_Attempted', 'Perc_Passes_Completed',\n",
       "       'Penalty_Goals', 'Penalty_Attempted', 'xG', 'xA', 'Yellow_Cards',\n",
       "       'Red_Cards'],\n",
       "      dtype='object')"
      ]
     },
     "execution_count": 4,
     "metadata": {},
     "output_type": "execute_result"
    }
   ],
   "source": [
    "# The names of the columns\n",
    "df.columns"
   ]
  },
  {
   "cell_type": "markdown",
   "metadata": {},
   "source": [
    "#### Data Assessment"
   ]
  },
  {
   "cell_type": "code",
   "execution_count": 5,
   "metadata": {},
   "outputs": [
    {
     "name": "stdout",
     "output_type": "stream",
     "text": [
      "<class 'pandas.core.frame.DataFrame'>\n",
      "RangeIndex: 532 entries, 0 to 531\n",
      "Data columns (total 18 columns):\n",
      "Name                     532 non-null object\n",
      "Club                     532 non-null object\n",
      "Nationality              532 non-null object\n",
      "Position                 532 non-null object\n",
      "Age                      532 non-null int64\n",
      "Matches                  532 non-null int64\n",
      "Starts                   532 non-null int64\n",
      "Mins                     532 non-null int64\n",
      "Goals                    532 non-null int64\n",
      "Assists                  532 non-null int64\n",
      "Passes_Attempted         532 non-null int64\n",
      "Perc_Passes_Completed    532 non-null float64\n",
      "Penalty_Goals            532 non-null int64\n",
      "Penalty_Attempted        532 non-null int64\n",
      "xG                       532 non-null float64\n",
      "xA                       532 non-null float64\n",
      "Yellow_Cards             532 non-null int64\n",
      "Red_Cards                532 non-null int64\n",
      "dtypes: float64(3), int64(11), object(4)\n",
      "memory usage: 74.9+ KB\n"
     ]
    }
   ],
   "source": [
    "df.info()"
   ]
  },
  {
   "cell_type": "code",
   "execution_count": 6,
   "metadata": {},
   "outputs": [
    {
     "data": {
      "text/html": [
       "<div>\n",
       "<style scoped>\n",
       "    .dataframe tbody tr th:only-of-type {\n",
       "        vertical-align: middle;\n",
       "    }\n",
       "\n",
       "    .dataframe tbody tr th {\n",
       "        vertical-align: top;\n",
       "    }\n",
       "\n",
       "    .dataframe thead th {\n",
       "        text-align: right;\n",
       "    }\n",
       "</style>\n",
       "<table border=\"1\" class=\"dataframe\">\n",
       "  <thead>\n",
       "    <tr style=\"text-align: right;\">\n",
       "      <th></th>\n",
       "      <th>Age</th>\n",
       "      <th>Matches</th>\n",
       "      <th>Starts</th>\n",
       "      <th>Mins</th>\n",
       "      <th>Goals</th>\n",
       "      <th>Assists</th>\n",
       "      <th>Passes_Attempted</th>\n",
       "      <th>Perc_Passes_Completed</th>\n",
       "      <th>Penalty_Goals</th>\n",
       "      <th>Penalty_Attempted</th>\n",
       "      <th>xG</th>\n",
       "      <th>xA</th>\n",
       "      <th>Yellow_Cards</th>\n",
       "      <th>Red_Cards</th>\n",
       "    </tr>\n",
       "  </thead>\n",
       "  <tbody>\n",
       "    <tr>\n",
       "      <td>count</td>\n",
       "      <td>532.000000</td>\n",
       "      <td>532.000000</td>\n",
       "      <td>532.000000</td>\n",
       "      <td>532.000000</td>\n",
       "      <td>532.000000</td>\n",
       "      <td>532.000000</td>\n",
       "      <td>532.000000</td>\n",
       "      <td>532.000000</td>\n",
       "      <td>532.000000</td>\n",
       "      <td>532.000000</td>\n",
       "      <td>532.000000</td>\n",
       "      <td>532.000000</td>\n",
       "      <td>532.000000</td>\n",
       "      <td>532.000000</td>\n",
       "    </tr>\n",
       "    <tr>\n",
       "      <td>mean</td>\n",
       "      <td>25.500000</td>\n",
       "      <td>19.535714</td>\n",
       "      <td>15.714286</td>\n",
       "      <td>1411.443609</td>\n",
       "      <td>1.853383</td>\n",
       "      <td>1.287594</td>\n",
       "      <td>717.750000</td>\n",
       "      <td>77.823872</td>\n",
       "      <td>0.191729</td>\n",
       "      <td>0.234962</td>\n",
       "      <td>0.113289</td>\n",
       "      <td>0.072650</td>\n",
       "      <td>2.114662</td>\n",
       "      <td>0.090226</td>\n",
       "    </tr>\n",
       "    <tr>\n",
       "      <td>std</td>\n",
       "      <td>4.319404</td>\n",
       "      <td>11.840459</td>\n",
       "      <td>11.921161</td>\n",
       "      <td>1043.171856</td>\n",
       "      <td>3.338009</td>\n",
       "      <td>2.095191</td>\n",
       "      <td>631.372522</td>\n",
       "      <td>13.011631</td>\n",
       "      <td>0.850881</td>\n",
       "      <td>0.975818</td>\n",
       "      <td>0.148174</td>\n",
       "      <td>0.090072</td>\n",
       "      <td>2.269094</td>\n",
       "      <td>0.293268</td>\n",
       "    </tr>\n",
       "    <tr>\n",
       "      <td>min</td>\n",
       "      <td>16.000000</td>\n",
       "      <td>1.000000</td>\n",
       "      <td>0.000000</td>\n",
       "      <td>1.000000</td>\n",
       "      <td>0.000000</td>\n",
       "      <td>0.000000</td>\n",
       "      <td>0.000000</td>\n",
       "      <td>-1.000000</td>\n",
       "      <td>0.000000</td>\n",
       "      <td>0.000000</td>\n",
       "      <td>0.000000</td>\n",
       "      <td>0.000000</td>\n",
       "      <td>0.000000</td>\n",
       "      <td>0.000000</td>\n",
       "    </tr>\n",
       "    <tr>\n",
       "      <td>25%</td>\n",
       "      <td>22.000000</td>\n",
       "      <td>9.000000</td>\n",
       "      <td>4.000000</td>\n",
       "      <td>426.000000</td>\n",
       "      <td>0.000000</td>\n",
       "      <td>0.000000</td>\n",
       "      <td>171.500000</td>\n",
       "      <td>73.500000</td>\n",
       "      <td>0.000000</td>\n",
       "      <td>0.000000</td>\n",
       "      <td>0.010000</td>\n",
       "      <td>0.000000</td>\n",
       "      <td>0.000000</td>\n",
       "      <td>0.000000</td>\n",
       "    </tr>\n",
       "    <tr>\n",
       "      <td>50%</td>\n",
       "      <td>26.000000</td>\n",
       "      <td>21.000000</td>\n",
       "      <td>15.000000</td>\n",
       "      <td>1345.000000</td>\n",
       "      <td>1.000000</td>\n",
       "      <td>0.000000</td>\n",
       "      <td>573.500000</td>\n",
       "      <td>79.200000</td>\n",
       "      <td>0.000000</td>\n",
       "      <td>0.000000</td>\n",
       "      <td>0.060000</td>\n",
       "      <td>0.050000</td>\n",
       "      <td>2.000000</td>\n",
       "      <td>0.000000</td>\n",
       "    </tr>\n",
       "    <tr>\n",
       "      <td>75%</td>\n",
       "      <td>29.000000</td>\n",
       "      <td>30.000000</td>\n",
       "      <td>27.000000</td>\n",
       "      <td>2303.500000</td>\n",
       "      <td>2.000000</td>\n",
       "      <td>2.000000</td>\n",
       "      <td>1129.500000</td>\n",
       "      <td>84.625000</td>\n",
       "      <td>0.000000</td>\n",
       "      <td>0.000000</td>\n",
       "      <td>0.150000</td>\n",
       "      <td>0.110000</td>\n",
       "      <td>3.000000</td>\n",
       "      <td>0.000000</td>\n",
       "    </tr>\n",
       "    <tr>\n",
       "      <td>max</td>\n",
       "      <td>38.000000</td>\n",
       "      <td>38.000000</td>\n",
       "      <td>38.000000</td>\n",
       "      <td>3420.000000</td>\n",
       "      <td>23.000000</td>\n",
       "      <td>14.000000</td>\n",
       "      <td>3214.000000</td>\n",
       "      <td>100.000000</td>\n",
       "      <td>9.000000</td>\n",
       "      <td>10.000000</td>\n",
       "      <td>1.160000</td>\n",
       "      <td>0.900000</td>\n",
       "      <td>12.000000</td>\n",
       "      <td>2.000000</td>\n",
       "    </tr>\n",
       "  </tbody>\n",
       "</table>\n",
       "</div>"
      ],
      "text/plain": [
       "              Age     Matches      Starts         Mins       Goals  \\\n",
       "count  532.000000  532.000000  532.000000   532.000000  532.000000   \n",
       "mean    25.500000   19.535714   15.714286  1411.443609    1.853383   \n",
       "std      4.319404   11.840459   11.921161  1043.171856    3.338009   \n",
       "min     16.000000    1.000000    0.000000     1.000000    0.000000   \n",
       "25%     22.000000    9.000000    4.000000   426.000000    0.000000   \n",
       "50%     26.000000   21.000000   15.000000  1345.000000    1.000000   \n",
       "75%     29.000000   30.000000   27.000000  2303.500000    2.000000   \n",
       "max     38.000000   38.000000   38.000000  3420.000000   23.000000   \n",
       "\n",
       "          Assists  Passes_Attempted  Perc_Passes_Completed  Penalty_Goals  \\\n",
       "count  532.000000        532.000000             532.000000     532.000000   \n",
       "mean     1.287594        717.750000              77.823872       0.191729   \n",
       "std      2.095191        631.372522              13.011631       0.850881   \n",
       "min      0.000000          0.000000              -1.000000       0.000000   \n",
       "25%      0.000000        171.500000              73.500000       0.000000   \n",
       "50%      0.000000        573.500000              79.200000       0.000000   \n",
       "75%      2.000000       1129.500000              84.625000       0.000000   \n",
       "max     14.000000       3214.000000             100.000000       9.000000   \n",
       "\n",
       "       Penalty_Attempted          xG          xA  Yellow_Cards   Red_Cards  \n",
       "count         532.000000  532.000000  532.000000    532.000000  532.000000  \n",
       "mean            0.234962    0.113289    0.072650      2.114662    0.090226  \n",
       "std             0.975818    0.148174    0.090072      2.269094    0.293268  \n",
       "min             0.000000    0.000000    0.000000      0.000000    0.000000  \n",
       "25%             0.000000    0.010000    0.000000      0.000000    0.000000  \n",
       "50%             0.000000    0.060000    0.050000      2.000000    0.000000  \n",
       "75%             0.000000    0.150000    0.110000      3.000000    0.000000  \n",
       "max            10.000000    1.160000    0.900000     12.000000    2.000000  "
      ]
     },
     "execution_count": 6,
     "metadata": {},
     "output_type": "execute_result"
    }
   ],
   "source": [
    "df.describe()"
   ]
  },
  {
   "cell_type": "code",
   "execution_count": 7,
   "metadata": {},
   "outputs": [
    {
     "data": {
      "text/plain": [
       "array(['MF,FW', 'GK', 'FW', 'DF', 'MF', 'FW,MF', 'FW,DF', 'DF,MF',\n",
       "       'MF,DF', 'DF,FW'], dtype=object)"
      ]
     },
     "execution_count": 7,
     "metadata": {},
     "output_type": "execute_result"
    }
   ],
   "source": [
    "df['Position'].unique()"
   ]
  },
  {
   "cell_type": "markdown",
   "metadata": {},
   "source": [
    "##### Assessment Summary\n",
    "\n",
    "Since this dataset seems to have all the columns in their appropriate type, and also has no missing values, I'll summarize what I found interesting (visually) about some columns:\n",
    "\n",
    "* The range of the age column is from 16 to 38, so here we have almost every phase a football player can have.\n",
    "* The dataset considers only players that made, at least, one game in the Premier League.\n",
    "* From the goals column we can see that 25% of the players that had played at least one game in this season, do not have scored a single goal, and also that the number of goals that mark the 75% of the data, has only 2 goals, so we can see that the goals are hugely concentrated in a small portion of the players.\n",
    "* The trend highlighted above is even stronger in the assists column.\n",
    "* In the percentage of passes completed column I need to inspect a value, that states that the minimum value for this column is a negative one, so, I need to see what caused this issue in the data.\n",
    "* We can also see that the `Position` column has some rows that contain more than one value.\n"
   ]
  },
  {
   "cell_type": "markdown",
   "metadata": {},
   "source": [
    "#### Data cleaning #1\n",
    "\n",
    "> Inspect the `Perc_Passes_Completed` column, more especifically the minimum value for that column."
   ]
  },
  {
   "cell_type": "code",
   "execution_count": 8,
   "metadata": {},
   "outputs": [
    {
     "data": {
      "text/html": [
       "<div>\n",
       "<style scoped>\n",
       "    .dataframe tbody tr th:only-of-type {\n",
       "        vertical-align: middle;\n",
       "    }\n",
       "\n",
       "    .dataframe tbody tr th {\n",
       "        vertical-align: top;\n",
       "    }\n",
       "\n",
       "    .dataframe thead th {\n",
       "        text-align: right;\n",
       "    }\n",
       "</style>\n",
       "<table border=\"1\" class=\"dataframe\">\n",
       "  <thead>\n",
       "    <tr style=\"text-align: right;\">\n",
       "      <th></th>\n",
       "      <th>Name</th>\n",
       "      <th>Club</th>\n",
       "      <th>Nationality</th>\n",
       "      <th>Position</th>\n",
       "      <th>Age</th>\n",
       "      <th>Matches</th>\n",
       "      <th>Starts</th>\n",
       "      <th>Mins</th>\n",
       "      <th>Goals</th>\n",
       "      <th>Assists</th>\n",
       "      <th>Passes_Attempted</th>\n",
       "      <th>Perc_Passes_Completed</th>\n",
       "      <th>Penalty_Goals</th>\n",
       "      <th>Penalty_Attempted</th>\n",
       "      <th>xG</th>\n",
       "      <th>xA</th>\n",
       "      <th>Yellow_Cards</th>\n",
       "      <th>Red_Cards</th>\n",
       "    </tr>\n",
       "  </thead>\n",
       "  <tbody>\n",
       "    <tr>\n",
       "      <td>79</td>\n",
       "      <td>William Thomas Fish</td>\n",
       "      <td>Manchester United</td>\n",
       "      <td>ENG</td>\n",
       "      <td>DF</td>\n",
       "      <td>17</td>\n",
       "      <td>1</td>\n",
       "      <td>0</td>\n",
       "      <td>1</td>\n",
       "      <td>0</td>\n",
       "      <td>0</td>\n",
       "      <td>1</td>\n",
       "      <td>0.0</td>\n",
       "      <td>0</td>\n",
       "      <td>0</td>\n",
       "      <td>0.0</td>\n",
       "      <td>0.0</td>\n",
       "      <td>0</td>\n",
       "      <td>0</td>\n",
       "    </tr>\n",
       "    <tr>\n",
       "      <td>182</td>\n",
       "      <td>Dane Scarlett</td>\n",
       "      <td>Tottenham Hotspur</td>\n",
       "      <td>ENG</td>\n",
       "      <td>FW</td>\n",
       "      <td>16</td>\n",
       "      <td>1</td>\n",
       "      <td>0</td>\n",
       "      <td>1</td>\n",
       "      <td>0</td>\n",
       "      <td>0</td>\n",
       "      <td>0</td>\n",
       "      <td>-1.0</td>\n",
       "      <td>0</td>\n",
       "      <td>0</td>\n",
       "      <td>0.0</td>\n",
       "      <td>0.0</td>\n",
       "      <td>0</td>\n",
       "      <td>0</td>\n",
       "    </tr>\n",
       "    <tr>\n",
       "      <td>394</td>\n",
       "      <td>Allan Tchaptchet</td>\n",
       "      <td>Southampton</td>\n",
       "      <td>FRA</td>\n",
       "      <td>DF</td>\n",
       "      <td>18</td>\n",
       "      <td>1</td>\n",
       "      <td>0</td>\n",
       "      <td>13</td>\n",
       "      <td>0</td>\n",
       "      <td>0</td>\n",
       "      <td>2</td>\n",
       "      <td>0.0</td>\n",
       "      <td>0</td>\n",
       "      <td>0</td>\n",
       "      <td>0.0</td>\n",
       "      <td>0.0</td>\n",
       "      <td>0</td>\n",
       "      <td>0</td>\n",
       "    </tr>\n",
       "    <tr>\n",
       "      <td>420</td>\n",
       "      <td>Reda Khadra</td>\n",
       "      <td>Brighton</td>\n",
       "      <td>GER</td>\n",
       "      <td>FW</td>\n",
       "      <td>19</td>\n",
       "      <td>1</td>\n",
       "      <td>0</td>\n",
       "      <td>5</td>\n",
       "      <td>0</td>\n",
       "      <td>0</td>\n",
       "      <td>1</td>\n",
       "      <td>0.0</td>\n",
       "      <td>0</td>\n",
       "      <td>0</td>\n",
       "      <td>0.0</td>\n",
       "      <td>0.0</td>\n",
       "      <td>0</td>\n",
       "      <td>0</td>\n",
       "    </tr>\n",
       "    <tr>\n",
       "      <td>421</td>\n",
       "      <td>Jayson Molumby</td>\n",
       "      <td>Brighton</td>\n",
       "      <td>IRL</td>\n",
       "      <td>MF</td>\n",
       "      <td>20</td>\n",
       "      <td>1</td>\n",
       "      <td>0</td>\n",
       "      <td>1</td>\n",
       "      <td>0</td>\n",
       "      <td>0</td>\n",
       "      <td>1</td>\n",
       "      <td>0.0</td>\n",
       "      <td>0</td>\n",
       "      <td>0</td>\n",
       "      <td>0.0</td>\n",
       "      <td>0.0</td>\n",
       "      <td>0</td>\n",
       "      <td>0</td>\n",
       "    </tr>\n",
       "    <tr>\n",
       "      <td>446</td>\n",
       "      <td>Lewis Richardson</td>\n",
       "      <td>Burnley</td>\n",
       "      <td>ENG</td>\n",
       "      <td>FW,MF</td>\n",
       "      <td>17</td>\n",
       "      <td>2</td>\n",
       "      <td>0</td>\n",
       "      <td>4</td>\n",
       "      <td>0</td>\n",
       "      <td>0</td>\n",
       "      <td>1</td>\n",
       "      <td>0.0</td>\n",
       "      <td>0</td>\n",
       "      <td>0</td>\n",
       "      <td>0.0</td>\n",
       "      <td>0.0</td>\n",
       "      <td>0</td>\n",
       "      <td>0</td>\n",
       "    </tr>\n",
       "    <tr>\n",
       "      <td>531</td>\n",
       "      <td>Femi Seriki</td>\n",
       "      <td>Sheffield United</td>\n",
       "      <td>ENG</td>\n",
       "      <td>DF</td>\n",
       "      <td>17</td>\n",
       "      <td>1</td>\n",
       "      <td>0</td>\n",
       "      <td>1</td>\n",
       "      <td>0</td>\n",
       "      <td>0</td>\n",
       "      <td>0</td>\n",
       "      <td>-1.0</td>\n",
       "      <td>0</td>\n",
       "      <td>0</td>\n",
       "      <td>0.0</td>\n",
       "      <td>0.0</td>\n",
       "      <td>0</td>\n",
       "      <td>0</td>\n",
       "    </tr>\n",
       "  </tbody>\n",
       "</table>\n",
       "</div>"
      ],
      "text/plain": [
       "                    Name               Club Nationality Position  Age  \\\n",
       "79   William Thomas Fish  Manchester United         ENG       DF   17   \n",
       "182        Dane Scarlett  Tottenham Hotspur         ENG       FW   16   \n",
       "394     Allan Tchaptchet        Southampton         FRA       DF   18   \n",
       "420          Reda Khadra           Brighton         GER       FW   19   \n",
       "421       Jayson Molumby           Brighton         IRL       MF   20   \n",
       "446     Lewis Richardson            Burnley         ENG    FW,MF   17   \n",
       "531          Femi Seriki   Sheffield United         ENG       DF   17   \n",
       "\n",
       "     Matches  Starts  Mins  Goals  Assists  Passes_Attempted  \\\n",
       "79         1       0     1      0        0                 1   \n",
       "182        1       0     1      0        0                 0   \n",
       "394        1       0    13      0        0                 2   \n",
       "420        1       0     5      0        0                 1   \n",
       "421        1       0     1      0        0                 1   \n",
       "446        2       0     4      0        0                 1   \n",
       "531        1       0     1      0        0                 0   \n",
       "\n",
       "     Perc_Passes_Completed  Penalty_Goals  Penalty_Attempted   xG   xA  \\\n",
       "79                     0.0              0                  0  0.0  0.0   \n",
       "182                   -1.0              0                  0  0.0  0.0   \n",
       "394                    0.0              0                  0  0.0  0.0   \n",
       "420                    0.0              0                  0  0.0  0.0   \n",
       "421                    0.0              0                  0  0.0  0.0   \n",
       "446                    0.0              0                  0  0.0  0.0   \n",
       "531                   -1.0              0                  0  0.0  0.0   \n",
       "\n",
       "     Yellow_Cards  Red_Cards  \n",
       "79              0          0  \n",
       "182             0          0  \n",
       "394             0          0  \n",
       "420             0          0  \n",
       "421             0          0  \n",
       "446             0          0  \n",
       "531             0          0  "
      ]
     },
     "execution_count": 8,
     "metadata": {},
     "output_type": "execute_result"
    }
   ],
   "source": [
    "df[df['Perc_Passes_Completed'] <= 0]"
   ]
  },
  {
   "cell_type": "markdown",
   "metadata": {},
   "source": [
    "##### Conclusion on this issue \n",
    "> Here we can see that the data represented in this column is wrongly placed here, since the players did not attempted any passes, they cannot have completed less passes then the number of passes they attempted.\n",
    "\n",
    "So, here I will correct the values, changing them to zero."
   ]
  },
  {
   "cell_type": "code",
   "execution_count": 9,
   "metadata": {},
   "outputs": [],
   "source": [
    "df.loc[df['Perc_Passes_Completed'] <0, 'Perc_Passes_Completed'] = 0"
   ]
  },
  {
   "cell_type": "code",
   "execution_count": 10,
   "metadata": {},
   "outputs": [
    {
     "data": {
      "text/html": [
       "<div>\n",
       "<style scoped>\n",
       "    .dataframe tbody tr th:only-of-type {\n",
       "        vertical-align: middle;\n",
       "    }\n",
       "\n",
       "    .dataframe tbody tr th {\n",
       "        vertical-align: top;\n",
       "    }\n",
       "\n",
       "    .dataframe thead th {\n",
       "        text-align: right;\n",
       "    }\n",
       "</style>\n",
       "<table border=\"1\" class=\"dataframe\">\n",
       "  <thead>\n",
       "    <tr style=\"text-align: right;\">\n",
       "      <th></th>\n",
       "      <th>Name</th>\n",
       "      <th>Club</th>\n",
       "      <th>Nationality</th>\n",
       "      <th>Position</th>\n",
       "      <th>Age</th>\n",
       "      <th>Matches</th>\n",
       "      <th>Starts</th>\n",
       "      <th>Mins</th>\n",
       "      <th>Goals</th>\n",
       "      <th>Assists</th>\n",
       "      <th>Passes_Attempted</th>\n",
       "      <th>Perc_Passes_Completed</th>\n",
       "      <th>Penalty_Goals</th>\n",
       "      <th>Penalty_Attempted</th>\n",
       "      <th>xG</th>\n",
       "      <th>xA</th>\n",
       "      <th>Yellow_Cards</th>\n",
       "      <th>Red_Cards</th>\n",
       "    </tr>\n",
       "  </thead>\n",
       "  <tbody>\n",
       "    <tr>\n",
       "      <td>79</td>\n",
       "      <td>William Thomas Fish</td>\n",
       "      <td>Manchester United</td>\n",
       "      <td>ENG</td>\n",
       "      <td>DF</td>\n",
       "      <td>17</td>\n",
       "      <td>1</td>\n",
       "      <td>0</td>\n",
       "      <td>1</td>\n",
       "      <td>0</td>\n",
       "      <td>0</td>\n",
       "      <td>1</td>\n",
       "      <td>0.0</td>\n",
       "      <td>0</td>\n",
       "      <td>0</td>\n",
       "      <td>0.0</td>\n",
       "      <td>0.0</td>\n",
       "      <td>0</td>\n",
       "      <td>0</td>\n",
       "    </tr>\n",
       "    <tr>\n",
       "      <td>182</td>\n",
       "      <td>Dane Scarlett</td>\n",
       "      <td>Tottenham Hotspur</td>\n",
       "      <td>ENG</td>\n",
       "      <td>FW</td>\n",
       "      <td>16</td>\n",
       "      <td>1</td>\n",
       "      <td>0</td>\n",
       "      <td>1</td>\n",
       "      <td>0</td>\n",
       "      <td>0</td>\n",
       "      <td>0</td>\n",
       "      <td>0.0</td>\n",
       "      <td>0</td>\n",
       "      <td>0</td>\n",
       "      <td>0.0</td>\n",
       "      <td>0.0</td>\n",
       "      <td>0</td>\n",
       "      <td>0</td>\n",
       "    </tr>\n",
       "    <tr>\n",
       "      <td>394</td>\n",
       "      <td>Allan Tchaptchet</td>\n",
       "      <td>Southampton</td>\n",
       "      <td>FRA</td>\n",
       "      <td>DF</td>\n",
       "      <td>18</td>\n",
       "      <td>1</td>\n",
       "      <td>0</td>\n",
       "      <td>13</td>\n",
       "      <td>0</td>\n",
       "      <td>0</td>\n",
       "      <td>2</td>\n",
       "      <td>0.0</td>\n",
       "      <td>0</td>\n",
       "      <td>0</td>\n",
       "      <td>0.0</td>\n",
       "      <td>0.0</td>\n",
       "      <td>0</td>\n",
       "      <td>0</td>\n",
       "    </tr>\n",
       "    <tr>\n",
       "      <td>420</td>\n",
       "      <td>Reda Khadra</td>\n",
       "      <td>Brighton</td>\n",
       "      <td>GER</td>\n",
       "      <td>FW</td>\n",
       "      <td>19</td>\n",
       "      <td>1</td>\n",
       "      <td>0</td>\n",
       "      <td>5</td>\n",
       "      <td>0</td>\n",
       "      <td>0</td>\n",
       "      <td>1</td>\n",
       "      <td>0.0</td>\n",
       "      <td>0</td>\n",
       "      <td>0</td>\n",
       "      <td>0.0</td>\n",
       "      <td>0.0</td>\n",
       "      <td>0</td>\n",
       "      <td>0</td>\n",
       "    </tr>\n",
       "    <tr>\n",
       "      <td>421</td>\n",
       "      <td>Jayson Molumby</td>\n",
       "      <td>Brighton</td>\n",
       "      <td>IRL</td>\n",
       "      <td>MF</td>\n",
       "      <td>20</td>\n",
       "      <td>1</td>\n",
       "      <td>0</td>\n",
       "      <td>1</td>\n",
       "      <td>0</td>\n",
       "      <td>0</td>\n",
       "      <td>1</td>\n",
       "      <td>0.0</td>\n",
       "      <td>0</td>\n",
       "      <td>0</td>\n",
       "      <td>0.0</td>\n",
       "      <td>0.0</td>\n",
       "      <td>0</td>\n",
       "      <td>0</td>\n",
       "    </tr>\n",
       "    <tr>\n",
       "      <td>446</td>\n",
       "      <td>Lewis Richardson</td>\n",
       "      <td>Burnley</td>\n",
       "      <td>ENG</td>\n",
       "      <td>FW,MF</td>\n",
       "      <td>17</td>\n",
       "      <td>2</td>\n",
       "      <td>0</td>\n",
       "      <td>4</td>\n",
       "      <td>0</td>\n",
       "      <td>0</td>\n",
       "      <td>1</td>\n",
       "      <td>0.0</td>\n",
       "      <td>0</td>\n",
       "      <td>0</td>\n",
       "      <td>0.0</td>\n",
       "      <td>0.0</td>\n",
       "      <td>0</td>\n",
       "      <td>0</td>\n",
       "    </tr>\n",
       "    <tr>\n",
       "      <td>531</td>\n",
       "      <td>Femi Seriki</td>\n",
       "      <td>Sheffield United</td>\n",
       "      <td>ENG</td>\n",
       "      <td>DF</td>\n",
       "      <td>17</td>\n",
       "      <td>1</td>\n",
       "      <td>0</td>\n",
       "      <td>1</td>\n",
       "      <td>0</td>\n",
       "      <td>0</td>\n",
       "      <td>0</td>\n",
       "      <td>0.0</td>\n",
       "      <td>0</td>\n",
       "      <td>0</td>\n",
       "      <td>0.0</td>\n",
       "      <td>0.0</td>\n",
       "      <td>0</td>\n",
       "      <td>0</td>\n",
       "    </tr>\n",
       "  </tbody>\n",
       "</table>\n",
       "</div>"
      ],
      "text/plain": [
       "                    Name               Club Nationality Position  Age  \\\n",
       "79   William Thomas Fish  Manchester United         ENG       DF   17   \n",
       "182        Dane Scarlett  Tottenham Hotspur         ENG       FW   16   \n",
       "394     Allan Tchaptchet        Southampton         FRA       DF   18   \n",
       "420          Reda Khadra           Brighton         GER       FW   19   \n",
       "421       Jayson Molumby           Brighton         IRL       MF   20   \n",
       "446     Lewis Richardson            Burnley         ENG    FW,MF   17   \n",
       "531          Femi Seriki   Sheffield United         ENG       DF   17   \n",
       "\n",
       "     Matches  Starts  Mins  Goals  Assists  Passes_Attempted  \\\n",
       "79         1       0     1      0        0                 1   \n",
       "182        1       0     1      0        0                 0   \n",
       "394        1       0    13      0        0                 2   \n",
       "420        1       0     5      0        0                 1   \n",
       "421        1       0     1      0        0                 1   \n",
       "446        2       0     4      0        0                 1   \n",
       "531        1       0     1      0        0                 0   \n",
       "\n",
       "     Perc_Passes_Completed  Penalty_Goals  Penalty_Attempted   xG   xA  \\\n",
       "79                     0.0              0                  0  0.0  0.0   \n",
       "182                    0.0              0                  0  0.0  0.0   \n",
       "394                    0.0              0                  0  0.0  0.0   \n",
       "420                    0.0              0                  0  0.0  0.0   \n",
       "421                    0.0              0                  0  0.0  0.0   \n",
       "446                    0.0              0                  0  0.0  0.0   \n",
       "531                    0.0              0                  0  0.0  0.0   \n",
       "\n",
       "     Yellow_Cards  Red_Cards  \n",
       "79              0          0  \n",
       "182             0          0  \n",
       "394             0          0  \n",
       "420             0          0  \n",
       "421             0          0  \n",
       "446             0          0  \n",
       "531             0          0  "
      ]
     },
     "execution_count": 10,
     "metadata": {},
     "output_type": "execute_result"
    }
   ],
   "source": [
    "df[df['Perc_Passes_Completed'] <= 0]"
   ]
  },
  {
   "cell_type": "markdown",
   "metadata": {},
   "source": [
    "##### Cleaning Result #1\n",
    "> The players that have index number 182 and index number 531 were the players that had the issue above, and from here, we can see that the actual number is corrected."
   ]
  },
  {
   "cell_type": "markdown",
   "metadata": {},
   "source": [
    "#### Data cleaning #2\n",
    "> There are rows in the `Position` column that have more than one value.\n",
    "\n",
    "I will deal with this by splitting the rows that have this issue and considering only the first appearence for each player, as by knowing some Business Understanding, I can see that the first appearence refers to the players' preferable position."
   ]
  },
  {
   "cell_type": "code",
   "execution_count": 11,
   "metadata": {},
   "outputs": [
    {
     "data": {
      "text/plain": [
       "array(['MF,FW', 'GK', 'FW', 'DF', 'MF', 'FW,MF', 'FW,DF', 'DF,MF',\n",
       "       'MF,DF', 'DF,FW'], dtype=object)"
      ]
     },
     "execution_count": 11,
     "metadata": {},
     "output_type": "execute_result"
    }
   ],
   "source": [
    "df['Position'].unique()"
   ]
  },
  {
   "cell_type": "markdown",
   "metadata": {},
   "source": [
    "##### Conclusion on this issue\n",
    "> As said before, since the prefered position for each player is the first position that appears in the `Position` column for that player, I will maintain only the first one."
   ]
  },
  {
   "cell_type": "code",
   "execution_count": 12,
   "metadata": {},
   "outputs": [],
   "source": [
    "df['Position'] = df['Position'].apply(lambda x: x.split(',')[0])"
   ]
  },
  {
   "cell_type": "code",
   "execution_count": 13,
   "metadata": {},
   "outputs": [
    {
     "name": "stdout",
     "output_type": "stream",
     "text": [
      "(532, 18)\n"
     ]
    },
    {
     "data": {
      "text/html": [
       "<div>\n",
       "<style scoped>\n",
       "    .dataframe tbody tr th:only-of-type {\n",
       "        vertical-align: middle;\n",
       "    }\n",
       "\n",
       "    .dataframe tbody tr th {\n",
       "        vertical-align: top;\n",
       "    }\n",
       "\n",
       "    .dataframe thead th {\n",
       "        text-align: right;\n",
       "    }\n",
       "</style>\n",
       "<table border=\"1\" class=\"dataframe\">\n",
       "  <thead>\n",
       "    <tr style=\"text-align: right;\">\n",
       "      <th></th>\n",
       "      <th>Name</th>\n",
       "      <th>Club</th>\n",
       "      <th>Nationality</th>\n",
       "      <th>Position</th>\n",
       "      <th>Age</th>\n",
       "      <th>Matches</th>\n",
       "      <th>Starts</th>\n",
       "      <th>Mins</th>\n",
       "      <th>Goals</th>\n",
       "      <th>Assists</th>\n",
       "      <th>Passes_Attempted</th>\n",
       "      <th>Perc_Passes_Completed</th>\n",
       "      <th>Penalty_Goals</th>\n",
       "      <th>Penalty_Attempted</th>\n",
       "      <th>xG</th>\n",
       "      <th>xA</th>\n",
       "      <th>Yellow_Cards</th>\n",
       "      <th>Red_Cards</th>\n",
       "    </tr>\n",
       "  </thead>\n",
       "  <tbody>\n",
       "    <tr>\n",
       "      <td>0</td>\n",
       "      <td>Mason Mount</td>\n",
       "      <td>Chelsea</td>\n",
       "      <td>ENG</td>\n",
       "      <td>MF</td>\n",
       "      <td>21</td>\n",
       "      <td>36</td>\n",
       "      <td>32</td>\n",
       "      <td>2890</td>\n",
       "      <td>6</td>\n",
       "      <td>5</td>\n",
       "      <td>1881</td>\n",
       "      <td>82.3</td>\n",
       "      <td>1</td>\n",
       "      <td>1</td>\n",
       "      <td>0.21</td>\n",
       "      <td>0.24</td>\n",
       "      <td>2</td>\n",
       "      <td>0</td>\n",
       "    </tr>\n",
       "    <tr>\n",
       "      <td>1</td>\n",
       "      <td>Edouard Mendy</td>\n",
       "      <td>Chelsea</td>\n",
       "      <td>SEN</td>\n",
       "      <td>GK</td>\n",
       "      <td>28</td>\n",
       "      <td>31</td>\n",
       "      <td>31</td>\n",
       "      <td>2745</td>\n",
       "      <td>0</td>\n",
       "      <td>0</td>\n",
       "      <td>1007</td>\n",
       "      <td>84.6</td>\n",
       "      <td>0</td>\n",
       "      <td>0</td>\n",
       "      <td>0.00</td>\n",
       "      <td>0.00</td>\n",
       "      <td>2</td>\n",
       "      <td>0</td>\n",
       "    </tr>\n",
       "    <tr>\n",
       "      <td>2</td>\n",
       "      <td>Timo Werner</td>\n",
       "      <td>Chelsea</td>\n",
       "      <td>GER</td>\n",
       "      <td>FW</td>\n",
       "      <td>24</td>\n",
       "      <td>35</td>\n",
       "      <td>29</td>\n",
       "      <td>2602</td>\n",
       "      <td>6</td>\n",
       "      <td>8</td>\n",
       "      <td>826</td>\n",
       "      <td>77.2</td>\n",
       "      <td>0</td>\n",
       "      <td>0</td>\n",
       "      <td>0.41</td>\n",
       "      <td>0.21</td>\n",
       "      <td>2</td>\n",
       "      <td>0</td>\n",
       "    </tr>\n",
       "    <tr>\n",
       "      <td>3</td>\n",
       "      <td>Ben Chilwell</td>\n",
       "      <td>Chelsea</td>\n",
       "      <td>ENG</td>\n",
       "      <td>DF</td>\n",
       "      <td>23</td>\n",
       "      <td>27</td>\n",
       "      <td>27</td>\n",
       "      <td>2286</td>\n",
       "      <td>3</td>\n",
       "      <td>5</td>\n",
       "      <td>1806</td>\n",
       "      <td>78.6</td>\n",
       "      <td>0</td>\n",
       "      <td>0</td>\n",
       "      <td>0.10</td>\n",
       "      <td>0.11</td>\n",
       "      <td>3</td>\n",
       "      <td>0</td>\n",
       "    </tr>\n",
       "    <tr>\n",
       "      <td>4</td>\n",
       "      <td>Reece James</td>\n",
       "      <td>Chelsea</td>\n",
       "      <td>ENG</td>\n",
       "      <td>DF</td>\n",
       "      <td>20</td>\n",
       "      <td>32</td>\n",
       "      <td>25</td>\n",
       "      <td>2373</td>\n",
       "      <td>1</td>\n",
       "      <td>2</td>\n",
       "      <td>1987</td>\n",
       "      <td>85.0</td>\n",
       "      <td>0</td>\n",
       "      <td>0</td>\n",
       "      <td>0.06</td>\n",
       "      <td>0.12</td>\n",
       "      <td>3</td>\n",
       "      <td>0</td>\n",
       "    </tr>\n",
       "  </tbody>\n",
       "</table>\n",
       "</div>"
      ],
      "text/plain": [
       "            Name     Club Nationality Position  Age  Matches  Starts  Mins  \\\n",
       "0    Mason Mount  Chelsea         ENG       MF   21       36      32  2890   \n",
       "1  Edouard Mendy  Chelsea         SEN       GK   28       31      31  2745   \n",
       "2    Timo Werner  Chelsea         GER       FW   24       35      29  2602   \n",
       "3   Ben Chilwell  Chelsea         ENG       DF   23       27      27  2286   \n",
       "4    Reece James  Chelsea         ENG       DF   20       32      25  2373   \n",
       "\n",
       "   Goals  Assists  Passes_Attempted  Perc_Passes_Completed  Penalty_Goals  \\\n",
       "0      6        5              1881                   82.3              1   \n",
       "1      0        0              1007                   84.6              0   \n",
       "2      6        8               826                   77.2              0   \n",
       "3      3        5              1806                   78.6              0   \n",
       "4      1        2              1987                   85.0              0   \n",
       "\n",
       "   Penalty_Attempted    xG    xA  Yellow_Cards  Red_Cards  \n",
       "0                  1  0.21  0.24             2          0  \n",
       "1                  0  0.00  0.00             2          0  \n",
       "2                  0  0.41  0.21             2          0  \n",
       "3                  0  0.10  0.11             3          0  \n",
       "4                  0  0.06  0.12             3          0  "
      ]
     },
     "execution_count": 13,
     "metadata": {},
     "output_type": "execute_result"
    }
   ],
   "source": [
    "print(df.shape)\n",
    "df.head()"
   ]
  },
  {
   "cell_type": "code",
   "execution_count": 14,
   "metadata": {},
   "outputs": [
    {
     "data": {
      "text/plain": [
       "array(['MF', 'GK', 'FW', 'DF'], dtype=object)"
      ]
     },
     "execution_count": 14,
     "metadata": {},
     "output_type": "execute_result"
    }
   ],
   "source": [
    "df['Position'].unique()"
   ]
  },
  {
   "cell_type": "markdown",
   "metadata": {},
   "source": [
    "##### Cleaning Result #2\n",
    "> We can see that the player named Mason Mount that had two positions on the ortiginal dataset, has now only his preferred one, which is MidField (MF), and we can also see that the unique values for this column are now only the single positions instead of a combination of them."
   ]
  },
  {
   "cell_type": "markdown",
   "metadata": {},
   "source": [
    "## Data Analysis\n",
    "\n",
    "Here, there are some questions we can try to answer using this dataset, or we can also analyse and discover new trends that we still don't know.\n",
    "\n",
    "Some questions that can guide this analysis:\n",
    "\n",
    "* What are the countries with more players in the English Premier League this season?\n",
    "* Which clubs made more goals this season, and what were the expected goals for them? in which way can we compare the expected goals and actual goals made by Club?\n",
    "* What are the positions, the players and the clubs that have the highest and lowest percentage of passes completed?\n",
    "* What are the players that scored more goals? What are the players that did better and worse comparing their actual goals scored and the expected goals?\n"
   ]
  },
  {
   "cell_type": "markdown",
   "metadata": {},
   "source": [
    "### Question #1\n",
    "> What are the countries with more players in the English Premier League? And how well they performed?"
   ]
  },
  {
   "cell_type": "code",
   "execution_count": 15,
   "metadata": {},
   "outputs": [
    {
     "data": {
      "text/plain": [
       "Nationality\n",
       "ENG    192\n",
       "FRA     31\n",
       "BRA     27\n",
       "ESP     26\n",
       "POR     21\n",
       "IRL     21\n",
       "SCO     20\n",
       "NED     16\n",
       "WAL     12\n",
       "BEL     11\n",
       "Name: Name, dtype: int64"
      ]
     },
     "execution_count": 15,
     "metadata": {},
     "output_type": "execute_result"
    }
   ],
   "source": [
    "players_by_nationality = df.groupby('Nationality')['Name'].count().sort_values(ascending=False)[:10]\n",
    "players_by_nationality"
   ]
  },
  {
   "cell_type": "code",
   "execution_count": 16,
   "metadata": {},
   "outputs": [
    {
     "data": {
      "image/png": "[encoded data removed]",
      "text/plain": [
       "<Figure size 864x432 with 1 Axes>"
      ]
     },
     "metadata": {
      "needs_background": "light"
     },
     "output_type": "display_data"
    }
   ],
   "source": [
    "df.groupby('Nationality')['Name'].count().sort_values(ascending=False)[:10].plot.bar(title='Number of Players by Country',\n",
    "                                                                                    figsize=(12,6), color=color);\n"
   ]
  },
  {
   "cell_type": "markdown",
   "metadata": {},
   "source": [
    "**Note**\n",
    "> Here we can see that, as expected, the nationality that has the most players in the Premier League are England, but some interesting fact is that Brazil is in third position, which is a thinhg in England given that we don't have a huge history of Brazilians doing well there."
   ]
  },
  {
   "cell_type": "code",
   "execution_count": 17,
   "metadata": {},
   "outputs": [
    {
     "data": {
      "text/plain": [
       "Nationality\n",
       "ENG    364\n",
       "BRA     62\n",
       "POR     57\n",
       "FRA     51\n",
       "BEL     34\n",
       "ESP     33\n",
       "SCO     28\n",
       "GER     27\n",
       "CIV     27\n",
       "EGY     25\n",
       "Name: Goals, dtype: int64"
      ]
     },
     "execution_count": 17,
     "metadata": {},
     "output_type": "execute_result"
    }
   ],
   "source": [
    "# Let's see if goals by nationality follows the same pattern as the absolute number of players by nationality\n",
    "goals_by_nationality = df.groupby('Nationality')['Goals'].sum().sort_values(ascending=False)[:10]\n",
    "goals_by_nationality"
   ]
  },
  {
   "cell_type": "code",
   "execution_count": 18,
   "metadata": {},
   "outputs": [
    {
     "data": {
      "image/png": "[encoded data removed]",
      "text/plain": [
       "<Figure size 864x432 with 1 Axes>"
      ]
     },
     "metadata": {
      "needs_background": "light"
     },
     "output_type": "display_data"
    }
   ],
   "source": [
    "# Let's visualize the graph for both goals by nationality and players by nationality\n",
    "pd.concat([goals_by_nationality, players_by_nationality], axis=1, sort=False, join='inner').plot.bar(figsize=(12,6));\n",
    "plt.title('Absolute number of players and goals by Nationality');\n",
    "plt.ylabel('Count');\n",
    "plt.legend(['Goals', 'Players']);"
   ]
  },
  {
   "cell_type": "markdown",
   "metadata": {},
   "source": [
    "**Note**\n",
    "> Since this absolute comparison doesn't give us any real good information, let's consider the rate."
   ]
  },
  {
   "cell_type": "code",
   "execution_count": 19,
   "metadata": {},
   "outputs": [],
   "source": [
    "# Creating the rate's df\n",
    "players_by_nationality = df.groupby('Nationality')['Name'].count()\n",
    "goals_by_nationality = df.groupby('Nationality')['Goals'].sum()\n",
    "\n",
    "df_Goals_Nationality = pd.concat([players_by_nationality, goals_by_nationality], axis=1, sort=False, join='inner')"
   ]
  },
  {
   "cell_type": "code",
   "execution_count": 20,
   "metadata": {},
   "outputs": [],
   "source": [
    "# Creating the Rate column in the new df\n",
    "df_Goals_Nationality['Rate'] = df_Goals_Nationality['Goals'] / df_Goals_Nationality['Name']"
   ]
  },
  {
   "cell_type": "code",
   "execution_count": 21,
   "metadata": {},
   "outputs": [
    {
     "data": {
      "text/html": [
       "<div>\n",
       "<style scoped>\n",
       "    .dataframe tbody tr th:only-of-type {\n",
       "        vertical-align: middle;\n",
       "    }\n",
       "\n",
       "    .dataframe tbody tr th {\n",
       "        vertical-align: top;\n",
       "    }\n",
       "\n",
       "    .dataframe thead th {\n",
       "        text-align: right;\n",
       "    }\n",
       "</style>\n",
       "<table border=\"1\" class=\"dataframe\">\n",
       "  <thead>\n",
       "    <tr style=\"text-align: right;\">\n",
       "      <th></th>\n",
       "      <th>Name</th>\n",
       "      <th>Goals</th>\n",
       "      <th>Rate</th>\n",
       "    </tr>\n",
       "    <tr>\n",
       "      <th>Nationality</th>\n",
       "      <th></th>\n",
       "      <th></th>\n",
       "      <th></th>\n",
       "    </tr>\n",
       "  </thead>\n",
       "  <tbody>\n",
       "    <tr>\n",
       "      <td>ALG</td>\n",
       "      <td>3</td>\n",
       "      <td>10</td>\n",
       "      <td>3.333333</td>\n",
       "    </tr>\n",
       "    <tr>\n",
       "      <td>ARG</td>\n",
       "      <td>8</td>\n",
       "      <td>8</td>\n",
       "      <td>1.000000</td>\n",
       "    </tr>\n",
       "    <tr>\n",
       "      <td>AUS</td>\n",
       "      <td>4</td>\n",
       "      <td>0</td>\n",
       "      <td>0.000000</td>\n",
       "    </tr>\n",
       "    <tr>\n",
       "      <td>AUT</td>\n",
       "      <td>1</td>\n",
       "      <td>0</td>\n",
       "      <td>0.000000</td>\n",
       "    </tr>\n",
       "    <tr>\n",
       "      <td>BEL</td>\n",
       "      <td>11</td>\n",
       "      <td>34</td>\n",
       "      <td>3.090909</td>\n",
       "    </tr>\n",
       "    <tr>\n",
       "      <td>BFA</td>\n",
       "      <td>1</td>\n",
       "      <td>7</td>\n",
       "      <td>7.000000</td>\n",
       "    </tr>\n",
       "    <tr>\n",
       "      <td>BIH</td>\n",
       "      <td>1</td>\n",
       "      <td>0</td>\n",
       "      <td>0.000000</td>\n",
       "    </tr>\n",
       "    <tr>\n",
       "      <td>BRA</td>\n",
       "      <td>27</td>\n",
       "      <td>62</td>\n",
       "      <td>2.296296</td>\n",
       "    </tr>\n",
       "    <tr>\n",
       "      <td>CAN</td>\n",
       "      <td>1</td>\n",
       "      <td>0</td>\n",
       "      <td>0.000000</td>\n",
       "    </tr>\n",
       "    <tr>\n",
       "      <td>CIV</td>\n",
       "      <td>8</td>\n",
       "      <td>27</td>\n",
       "      <td>3.375000</td>\n",
       "    </tr>\n",
       "  </tbody>\n",
       "</table>\n",
       "</div>"
      ],
      "text/plain": [
       "             Name  Goals      Rate\n",
       "Nationality                       \n",
       "ALG             3     10  3.333333\n",
       "ARG             8      8  1.000000\n",
       "AUS             4      0  0.000000\n",
       "AUT             1      0  0.000000\n",
       "BEL            11     34  3.090909\n",
       "BFA             1      7  7.000000\n",
       "BIH             1      0  0.000000\n",
       "BRA            27     62  2.296296\n",
       "CAN             1      0  0.000000\n",
       "CIV             8     27  3.375000"
      ]
     },
     "execution_count": 21,
     "metadata": {},
     "output_type": "execute_result"
    }
   ],
   "source": [
    "df_Goals_Nationality.head(10)"
   ]
  },
  {
   "cell_type": "code",
   "execution_count": 22,
   "metadata": {},
   "outputs": [
    {
     "data": {
      "image/png": "[encoded data removed]",
      "text/plain": [
       "<Figure size 864x432 with 1 Axes>"
      ]
     },
     "metadata": {
      "needs_background": "light"
     },
     "output_type": "display_data"
    }
   ],
   "source": [
    "df_Goals_Nationality['Rate'].sort_values(ascending=False)[:30].plot.bar(figsize=(12,6));\n",
    "plt.title('Goal rate by Nationality');\n",
    "plt.ylabel('Rate');\n",
    "plt.xlabel('Nationality of the players');"
   ]
  },
  {
   "cell_type": "markdown",
   "metadata": {},
   "source": [
    "##### Answer to question #1\n",
    "\n",
    "As expected, England leads the absolute number of players that make at least one game in the Premier League, followed by France, Brazil and Spain, when we look at the absolute number of goals, we could see some little changes in the top 10 order, for example, we could see that although Brazil and Portugal have a lower absolute number os players value compared to France, they both got more goals, and this was also the case for Belgium and Spain respectivelly.\n",
    "\n",
    "But we know that the absolute values don't seems to give us all the picture that we would like to see, so when I compared the countries' goals rate, I could see some real change in the way results were presented, for example, from here we could see that some nations that are not so famous in football got some real good rates this season, as we can see in the likes of South korea and New Zealand, that are the top two nations by rate of goals. We also could see that Belgium, which is the top 11 nation by rate of goal, is the best placed nation when we compare only the nations that also appeared in the Absolute number of goals visualization."
   ]
  },
  {
   "cell_type": "markdown",
   "metadata": {},
   "source": [
    "### Question #2\n",
    "> Which clubs made more goals this season, and what were the expected goals for them? in which way can we compare the expected goals and actual goals made by club?"
   ]
  },
  {
   "cell_type": "code",
   "execution_count": 23,
   "metadata": {},
   "outputs": [
    {
     "data": {
      "text/plain": [
       "Club\n",
       "Manchester City            82\n",
       "Manchester United          70\n",
       "Tottenham Hotspur          66\n",
       "Liverpool FC               65\n",
       "Leicester City             64\n",
       "Leeds United               60\n",
       "West Ham United            60\n",
       "Chelsea                    56\n",
       "Arsenal                    53\n",
       "Aston Villa                52\n",
       "Southampton                47\n",
       "Everton                    45\n",
       "Newcastle United           44\n",
       "Crystal Palace             39\n",
       "Brighton                   39\n",
       "Wolverhampton Wanderers    34\n",
       "West Bromwich Albion       33\n",
       "Burnley                    32\n",
       "Fulham                     26\n",
       "Sheffield United           19\n",
       "Name: Goals, dtype: int64"
      ]
     },
     "execution_count": 23,
     "metadata": {},
     "output_type": "execute_result"
    }
   ],
   "source": [
    "goals_per_club = df.groupby('Club')['Goals'].sum().sort_values(ascending=False)\n",
    "goals_per_club"
   ]
  },
  {
   "cell_type": "code",
   "execution_count": 24,
   "metadata": {},
   "outputs": [
    {
     "data": {
      "text/plain": [
       "Club\n",
       "Leicester City             10\n",
       "Manchester United          10\n",
       "Chelsea                     8\n",
       "Newcastle United            6\n",
       "Brighton                    6\n",
       "Liverpool FC                6\n",
       "Arsenal                     6\n",
       "Manchester City             5\n",
       "Southampton                 5\n",
       "Tottenham Hotspur           5\n",
       "Aston Villa                 5\n",
       "Leeds United                4\n",
       "Everton                     4\n",
       "West Bromwich Albion        4\n",
       "Wolverhampton Wanderers     4\n",
       "Sheffield United            3\n",
       "Fulham                      3\n",
       "Crystal Palace              3\n",
       "Burnley                     3\n",
       "West Ham United             2\n",
       "Name: Penalty_Goals, dtype: int64"
      ]
     },
     "execution_count": 24,
     "metadata": {},
     "output_type": "execute_result"
    }
   ],
   "source": [
    "goals_per_club_penalty = df.groupby('Club')['Penalty_Goals'].sum().sort_values(ascending=False)\n",
    "goals_per_club_penalty"
   ]
  },
  {
   "cell_type": "markdown",
   "metadata": {},
   "source": [
    "**Note** \n",
    "> Here I can create a column that holds the value for the expected goals in total number per players, in order to use in the club's analysis."
   ]
  },
  {
   "cell_type": "code",
   "execution_count": 25,
   "metadata": {},
   "outputs": [
    {
     "data": {
      "text/html": [
       "<div>\n",
       "<style scoped>\n",
       "    .dataframe tbody tr th:only-of-type {\n",
       "        vertical-align: middle;\n",
       "    }\n",
       "\n",
       "    .dataframe tbody tr th {\n",
       "        vertical-align: top;\n",
       "    }\n",
       "\n",
       "    .dataframe thead th {\n",
       "        text-align: right;\n",
       "    }\n",
       "</style>\n",
       "<table border=\"1\" class=\"dataframe\">\n",
       "  <thead>\n",
       "    <tr style=\"text-align: right;\">\n",
       "      <th></th>\n",
       "      <th>Name</th>\n",
       "      <th>Club</th>\n",
       "      <th>Nationality</th>\n",
       "      <th>Position</th>\n",
       "      <th>Age</th>\n",
       "      <th>Matches</th>\n",
       "      <th>Starts</th>\n",
       "      <th>Mins</th>\n",
       "      <th>Goals</th>\n",
       "      <th>Assists</th>\n",
       "      <th>Passes_Attempted</th>\n",
       "      <th>Perc_Passes_Completed</th>\n",
       "      <th>Penalty_Goals</th>\n",
       "      <th>Penalty_Attempted</th>\n",
       "      <th>xG</th>\n",
       "      <th>xA</th>\n",
       "      <th>Yellow_Cards</th>\n",
       "      <th>Red_Cards</th>\n",
       "      <th>xG_Total</th>\n",
       "    </tr>\n",
       "  </thead>\n",
       "  <tbody>\n",
       "    <tr>\n",
       "      <td>0</td>\n",
       "      <td>Mason Mount</td>\n",
       "      <td>Chelsea</td>\n",
       "      <td>ENG</td>\n",
       "      <td>MF</td>\n",
       "      <td>21</td>\n",
       "      <td>36</td>\n",
       "      <td>32</td>\n",
       "      <td>2890</td>\n",
       "      <td>6</td>\n",
       "      <td>5</td>\n",
       "      <td>1881</td>\n",
       "      <td>82.3</td>\n",
       "      <td>1</td>\n",
       "      <td>1</td>\n",
       "      <td>0.21</td>\n",
       "      <td>0.24</td>\n",
       "      <td>2</td>\n",
       "      <td>0</td>\n",
       "      <td>7.56</td>\n",
       "    </tr>\n",
       "    <tr>\n",
       "      <td>1</td>\n",
       "      <td>Edouard Mendy</td>\n",
       "      <td>Chelsea</td>\n",
       "      <td>SEN</td>\n",
       "      <td>GK</td>\n",
       "      <td>28</td>\n",
       "      <td>31</td>\n",
       "      <td>31</td>\n",
       "      <td>2745</td>\n",
       "      <td>0</td>\n",
       "      <td>0</td>\n",
       "      <td>1007</td>\n",
       "      <td>84.6</td>\n",
       "      <td>0</td>\n",
       "      <td>0</td>\n",
       "      <td>0.00</td>\n",
       "      <td>0.00</td>\n",
       "      <td>2</td>\n",
       "      <td>0</td>\n",
       "      <td>0.00</td>\n",
       "    </tr>\n",
       "    <tr>\n",
       "      <td>2</td>\n",
       "      <td>Timo Werner</td>\n",
       "      <td>Chelsea</td>\n",
       "      <td>GER</td>\n",
       "      <td>FW</td>\n",
       "      <td>24</td>\n",
       "      <td>35</td>\n",
       "      <td>29</td>\n",
       "      <td>2602</td>\n",
       "      <td>6</td>\n",
       "      <td>8</td>\n",
       "      <td>826</td>\n",
       "      <td>77.2</td>\n",
       "      <td>0</td>\n",
       "      <td>0</td>\n",
       "      <td>0.41</td>\n",
       "      <td>0.21</td>\n",
       "      <td>2</td>\n",
       "      <td>0</td>\n",
       "      <td>14.35</td>\n",
       "    </tr>\n",
       "  </tbody>\n",
       "</table>\n",
       "</div>"
      ],
      "text/plain": [
       "            Name     Club Nationality Position  Age  Matches  Starts  Mins  \\\n",
       "0    Mason Mount  Chelsea         ENG       MF   21       36      32  2890   \n",
       "1  Edouard Mendy  Chelsea         SEN       GK   28       31      31  2745   \n",
       "2    Timo Werner  Chelsea         GER       FW   24       35      29  2602   \n",
       "\n",
       "   Goals  Assists  Passes_Attempted  Perc_Passes_Completed  Penalty_Goals  \\\n",
       "0      6        5              1881                   82.3              1   \n",
       "1      0        0              1007                   84.6              0   \n",
       "2      6        8               826                   77.2              0   \n",
       "\n",
       "   Penalty_Attempted    xG    xA  Yellow_Cards  Red_Cards  xG_Total  \n",
       "0                  1  0.21  0.24             2          0      7.56  \n",
       "1                  0  0.00  0.00             2          0      0.00  \n",
       "2                  0  0.41  0.21             2          0     14.35  "
      ]
     },
     "execution_count": 25,
     "metadata": {},
     "output_type": "execute_result"
    }
   ],
   "source": [
    "# Creating the column mentioned above\n",
    "df['xG_Total'] = df['xG']*df['Matches']\n",
    "df.head(3)"
   ]
  },
  {
   "cell_type": "code",
   "execution_count": 26,
   "metadata": {},
   "outputs": [
    {
     "data": {
      "text/plain": [
       "Club\n",
       "Manchester City            94.09\n",
       "Liverpool FC               92.99\n",
       "Chelsea                    91.11\n",
       "Arsenal                    80.95\n",
       "Manchester United          79.41\n",
       "Leeds United               76.49\n",
       "Brighton                   74.19\n",
       "Tottenham Hotspur          73.91\n",
       "Aston Villa                71.69\n",
       "Leicester City             71.23\n",
       "West Ham United            69.01\n",
       "Everton                    60.17\n",
       "Newcastle United           59.11\n",
       "Fulham                     58.25\n",
       "Wolverhampton Wanderers    57.46\n",
       "Southampton                54.70\n",
       "Burnley                    53.53\n",
       "Sheffield United           47.65\n",
       "West Bromwich Albion       47.30\n",
       "Crystal Palace             43.09\n",
       "Name: xG_Total, dtype: float64"
      ]
     },
     "execution_count": 26,
     "metadata": {},
     "output_type": "execute_result"
    }
   ],
   "source": [
    "# Creating expected goals for club\n",
    "x_goals_per_club = (df.groupby('Club')['xG_Total'].sum()).sort_values(ascending=False)\n",
    "x_goals_per_club"
   ]
  },
  {
   "cell_type": "code",
   "execution_count": 27,
   "metadata": {},
   "outputs": [
    {
     "data": {
      "text/html": [
       "<div>\n",
       "<style scoped>\n",
       "    .dataframe tbody tr th:only-of-type {\n",
       "        vertical-align: middle;\n",
       "    }\n",
       "\n",
       "    .dataframe tbody tr th {\n",
       "        vertical-align: top;\n",
       "    }\n",
       "\n",
       "    .dataframe thead th {\n",
       "        text-align: right;\n",
       "    }\n",
       "</style>\n",
       "<table border=\"1\" class=\"dataframe\">\n",
       "  <thead>\n",
       "    <tr style=\"text-align: right;\">\n",
       "      <th></th>\n",
       "      <th>xG_Total</th>\n",
       "      <th>Goals</th>\n",
       "    </tr>\n",
       "  </thead>\n",
       "  <tbody>\n",
       "    <tr>\n",
       "      <td>Manchester City</td>\n",
       "      <td>94.09</td>\n",
       "      <td>82</td>\n",
       "    </tr>\n",
       "    <tr>\n",
       "      <td>Liverpool FC</td>\n",
       "      <td>92.99</td>\n",
       "      <td>65</td>\n",
       "    </tr>\n",
       "    <tr>\n",
       "      <td>Chelsea</td>\n",
       "      <td>91.11</td>\n",
       "      <td>56</td>\n",
       "    </tr>\n",
       "    <tr>\n",
       "      <td>Arsenal</td>\n",
       "      <td>80.95</td>\n",
       "      <td>53</td>\n",
       "    </tr>\n",
       "    <tr>\n",
       "      <td>Manchester United</td>\n",
       "      <td>79.41</td>\n",
       "      <td>70</td>\n",
       "    </tr>\n",
       "    <tr>\n",
       "      <td>Leeds United</td>\n",
       "      <td>76.49</td>\n",
       "      <td>60</td>\n",
       "    </tr>\n",
       "    <tr>\n",
       "      <td>Brighton</td>\n",
       "      <td>74.19</td>\n",
       "      <td>39</td>\n",
       "    </tr>\n",
       "    <tr>\n",
       "      <td>Tottenham Hotspur</td>\n",
       "      <td>73.91</td>\n",
       "      <td>66</td>\n",
       "    </tr>\n",
       "    <tr>\n",
       "      <td>Aston Villa</td>\n",
       "      <td>71.69</td>\n",
       "      <td>52</td>\n",
       "    </tr>\n",
       "    <tr>\n",
       "      <td>Leicester City</td>\n",
       "      <td>71.23</td>\n",
       "      <td>64</td>\n",
       "    </tr>\n",
       "    <tr>\n",
       "      <td>West Ham United</td>\n",
       "      <td>69.01</td>\n",
       "      <td>60</td>\n",
       "    </tr>\n",
       "    <tr>\n",
       "      <td>Everton</td>\n",
       "      <td>60.17</td>\n",
       "      <td>45</td>\n",
       "    </tr>\n",
       "    <tr>\n",
       "      <td>Newcastle United</td>\n",
       "      <td>59.11</td>\n",
       "      <td>44</td>\n",
       "    </tr>\n",
       "    <tr>\n",
       "      <td>Fulham</td>\n",
       "      <td>58.25</td>\n",
       "      <td>26</td>\n",
       "    </tr>\n",
       "    <tr>\n",
       "      <td>Wolverhampton Wanderers</td>\n",
       "      <td>57.46</td>\n",
       "      <td>34</td>\n",
       "    </tr>\n",
       "    <tr>\n",
       "      <td>Southampton</td>\n",
       "      <td>54.70</td>\n",
       "      <td>47</td>\n",
       "    </tr>\n",
       "    <tr>\n",
       "      <td>Burnley</td>\n",
       "      <td>53.53</td>\n",
       "      <td>32</td>\n",
       "    </tr>\n",
       "    <tr>\n",
       "      <td>Sheffield United</td>\n",
       "      <td>47.65</td>\n",
       "      <td>19</td>\n",
       "    </tr>\n",
       "    <tr>\n",
       "      <td>West Bromwich Albion</td>\n",
       "      <td>47.30</td>\n",
       "      <td>33</td>\n",
       "    </tr>\n",
       "    <tr>\n",
       "      <td>Crystal Palace</td>\n",
       "      <td>43.09</td>\n",
       "      <td>39</td>\n",
       "    </tr>\n",
       "  </tbody>\n",
       "</table>\n",
       "</div>"
      ],
      "text/plain": [
       "                         xG_Total  Goals\n",
       "Manchester City             94.09     82\n",
       "Liverpool FC                92.99     65\n",
       "Chelsea                     91.11     56\n",
       "Arsenal                     80.95     53\n",
       "Manchester United           79.41     70\n",
       "Leeds United                76.49     60\n",
       "Brighton                    74.19     39\n",
       "Tottenham Hotspur           73.91     66\n",
       "Aston Villa                 71.69     52\n",
       "Leicester City              71.23     64\n",
       "West Ham United             69.01     60\n",
       "Everton                     60.17     45\n",
       "Newcastle United            59.11     44\n",
       "Fulham                      58.25     26\n",
       "Wolverhampton Wanderers     57.46     34\n",
       "Southampton                 54.70     47\n",
       "Burnley                     53.53     32\n",
       "Sheffield United            47.65     19\n",
       "West Bromwich Albion        47.30     33\n",
       "Crystal Palace              43.09     39"
      ]
     },
     "execution_count": 27,
     "metadata": {},
     "output_type": "execute_result"
    }
   ],
   "source": [
    "# Creating a dataframe in order to better analyse these information.\n",
    "club_df = pd.DataFrame(pd.concat([x_goals_per_club, goals_per_club], axis=1, sort=False))\n",
    "club_df"
   ]
  },
  {
   "cell_type": "code",
   "execution_count": 28,
   "metadata": {},
   "outputs": [
    {
     "data": {
      "image/png": "[encoded data removed]",
      "text/plain": [
       "<Figure size 864x432 with 1 Axes>"
      ]
     },
     "metadata": {
      "needs_background": "light"
     },
     "output_type": "display_data"
    }
   ],
   "source": [
    "club_df.plot.bar(title='Number of expected goals and actual goals per club',\n",
    "                figsize=(12,6),legend=True);\n",
    "plt.ylabel('Goals');\n",
    "plt.xlabel('Clubs');\n",
    "plt.legend(['Expected Goals', 'Goals']);"
   ]
  },
  {
   "cell_type": "markdown",
   "metadata": {},
   "source": [
    "##### Answer to question #2\n",
    "As we could see, both clubs from Manchester made more goals than any other club this season, with `Manchester City` getting **82** goals and `Manchester United` getting **70** goals.\n",
    "\n",
    "When we compare these numbers to the expected goals for each club, we can see that this variable was really misscalculated, as we can see that no club did achieve the number of goals that were expected from them.\n",
    "\n",
    "If we can highligh a club that did really bad in terms of what were expected in terms of goals and what did the club actually delivered, we can see that `Sheffield United` had a disastrous season, with an **expected goals of 48**, and actuallt getting only **19** goals.\n",
    "\n"
   ]
  },
  {
   "cell_type": "markdown",
   "metadata": {},
   "source": [
    "### Question #3\n",
    "> What are the positions, the players and the clubs that have the highest and lowest percentage of passes completed?"
   ]
  },
  {
   "cell_type": "code",
   "execution_count": 29,
   "metadata": {},
   "outputs": [
    {
     "data": {
      "text/plain": [
       "Position\n",
       "MF    80.901274\n",
       "DF    80.267337\n",
       "FW    73.332836\n",
       "GK    69.119048\n",
       "Name: Perc_Passes_Completed, dtype: float64"
      ]
     },
     "execution_count": 29,
     "metadata": {},
     "output_type": "execute_result"
    }
   ],
   "source": [
    "df.groupby('Position')['Perc_Passes_Completed'].mean().sort_values(ascending=False)"
   ]
  },
  {
   "cell_type": "markdown",
   "metadata": {},
   "source": [
    "**Note**\n",
    "> Here we can see that the Goalkeeper is the position with the lowest percentage of passes completed"
   ]
  },
  {
   "cell_type": "code",
   "execution_count": 30,
   "metadata": {},
   "outputs": [
    {
     "data": {
      "text/plain": [
       "Club\n",
       "Manchester City            86.733333\n",
       "Chelsea                    84.033333\n",
       "Liverpool FC               83.453571\n",
       "Fulham                     81.710714\n",
       "Manchester United          81.662069\n",
       "Wolverhampton Wanderers    81.318519\n",
       "Arsenal                    81.262069\n",
       "Everton                    79.520690\n",
       "Leeds United               79.382609\n",
       "Leicester City             79.240741\n",
       "Aston Villa                76.795833\n",
       "West Ham United            76.495833\n",
       "Tottenham Hotspur          76.045833\n",
       "Newcastle United           75.085185\n",
       "Crystal Palace             74.529167\n",
       "Sheffield United           74.074074\n",
       "Southampton                72.955172\n",
       "West Bromwich Albion       72.383333\n",
       "Brighton                   71.988889\n",
       "Burnley                    67.456000\n",
       "Name: Perc_Passes_Completed, dtype: float64"
      ]
     },
     "execution_count": 30,
     "metadata": {},
     "output_type": "execute_result"
    }
   ],
   "source": [
    "df.groupby('Club')['Perc_Passes_Completed'].mean().sort_values(ascending=False)"
   ]
  },
  {
   "cell_type": "markdown",
   "metadata": {},
   "source": [
    "**Note**\n",
    "> Regarding the clubs, I could see some interesting results, first is to have `Fulham` in the top 4, considering that they were relegated, second is to see `Tottenham Hotspur` only in the 13th position."
   ]
  },
  {
   "cell_type": "code",
   "execution_count": 31,
   "metadata": {},
   "outputs": [
    {
     "data": {
      "image/png": "[encoded data removed]",
      "text/plain": [
       "<Figure size 864x432 with 1 Axes>"
      ]
     },
     "metadata": {
      "needs_background": "light"
     },
     "output_type": "display_data"
    }
   ],
   "source": [
    "df.groupby('Club')['Perc_Passes_Completed'].mean().sort_values(ascending=False).plot.bar(figsize=(12,6));\n",
    "plt.ylabel('Count')\n",
    "plt.xlabel('Club')\n",
    "plt.title('Percentage of passes completed by club');"
   ]
  },
  {
   "cell_type": "code",
   "execution_count": 32,
   "metadata": {},
   "outputs": [],
   "source": [
    "# as I'm going to filter some columns in order to get only players that have a certain rate\n",
    "# of appearences for their clubs in the season, I'll create a function to do this for me;\n",
    "\n",
    "def get_players(df, column_name, rate=0.70):\n",
    "    '''\n",
    "    INPUT:\n",
    "    df - a pandas dataframe that you want to get information for players\n",
    "    column_name - the name of the column that you want the function to use as a parameter\n",
    "    rate - the minimum rate of games played for each player, DEFAULT = .70\n",
    "    \n",
    "    OUTPUT:\n",
    "    mod_df - a new dataframe that contains only players that have more games than the rate.\n",
    "    '''\n",
    "    \n",
    "    mod_df = df[df[column_name] >= 38* rate]\n",
    "    return mod_df"
   ]
  },
  {
   "cell_type": "code",
   "execution_count": 33,
   "metadata": {},
   "outputs": [],
   "source": [
    "# Considering only players that have played at least, 70% of the matches.\n",
    "# Let's see which are the players have the highest percentage of passes completed\n",
    "new_df = get_players(df, 'Matches')"
   ]
  },
  {
   "cell_type": "code",
   "execution_count": 34,
   "metadata": {},
   "outputs": [
    {
     "data": {
      "text/plain": [
       "Name                 Position  Club             \n",
       "Rúben Dias           DF        Manchester City      93.6\n",
       "Georginio Wijnaldum  MF        Liverpool FC         93.3\n",
       "Rodri                MF        Manchester City      91.5\n",
       "Fabinho              DF        Liverpool FC         91.1\n",
       "Victor Lindelöf      DF        Manchester United    91.1\n",
       "Mateo Kovačić        MF        Chelsea              91.0\n",
       "İlkay Gündoğan       MF        Manchester City      91.0\n",
       "Lewis Dunk           DF        Brighton             90.0\n",
       "Granit Xhaka         MF        Arsenal              89.9\n",
       "Jorginho             MF        Chelsea              89.5\n",
       "Name: Perc_Passes_Completed, dtype: float64"
      ]
     },
     "execution_count": 34,
     "metadata": {},
     "output_type": "execute_result"
    }
   ],
   "source": [
    "new_df.groupby(['Name', 'Position', 'Club'])['Perc_Passes_Completed'].mean().sort_values(ascending=False)[:10]"
   ]
  },
  {
   "cell_type": "code",
   "execution_count": 35,
   "metadata": {},
   "outputs": [
    {
     "data": {
      "text/plain": [
       "Name               Position  Club                   \n",
       "Aaron Ramsdale     GK        Sheffield United           49.1\n",
       "Sam Johnstone      GK        West Bromwich Albion       49.9\n",
       "Nick Pope          GK        Burnley                    50.7\n",
       "Vicente Guaita     GK        Crystal Palace             55.4\n",
       "Darnell Furlong    DF        West Bromwich Albion       59.5\n",
       "Łukasz Fabiański   GK        West Ham United            60.5\n",
       "Christian Benteke  FW        Crystal Palace             63.8\n",
       "Alex McCarthy      GK        Southampton                64.3\n",
       "Emiliano Martínez  GK        Aston Villa                65.6\n",
       "Adama Traoré       FW        Wolverhampton Wanderers    65.9\n",
       "Name: Perc_Passes_Completed, dtype: float64"
      ]
     },
     "execution_count": 35,
     "metadata": {},
     "output_type": "execute_result"
    }
   ],
   "source": [
    "# Considering only players that have played at least, 70% of the matches\n",
    "# let's see which players have the lowest percentage of passes completed\n",
    "new_df.groupby(['Name', 'Position','Club'])['Perc_Passes_Completed'].mean().sort_values(ascending=True)[:10]\n"
   ]
  },
  {
   "cell_type": "markdown",
   "metadata": {},
   "source": [
    "**Note**\n",
    "> Considering that we got 7 goalkeepers, and that they indeed are the position that has the lowest percentage of passes completed, let's try to disconsider all the goalkeepers in order to see if we find something interesting."
   ]
  },
  {
   "cell_type": "code",
   "execution_count": 36,
   "metadata": {},
   "outputs": [
    {
     "data": {
      "text/plain": [
       "Name                  Position  Club                   \n",
       "Darnell Furlong       DF        West Bromwich Albion       59.5\n",
       "Christian Benteke     FW        Crystal Palace             63.8\n",
       "Adama Traoré          FW        Wolverhampton Wanderers    65.9\n",
       "Dara O'Shea           DF        West Bromwich Albion       66.0\n",
       "Danny Ings            FW        Southampton                66.3\n",
       "Jamie Vardy           FW        Leicester City             66.4\n",
       "Raphael Dias Belloli  MF        Leeds United               66.7\n",
       "Chris Wood            FW        Burnley                    66.9\n",
       "Jack Harrison         MF        Leeds United               67.8\n",
       "Andros Townsend       MF        Crystal Palace             67.9\n",
       "Name: Perc_Passes_Completed, dtype: float64"
      ]
     },
     "execution_count": 36,
     "metadata": {},
     "output_type": "execute_result"
    }
   ],
   "source": [
    "# Considering only players that have played at least, 70% of the matches\n",
    "# Let's see the statistic without considering GoalKeepers\n",
    "new_df[new_df['Position'] != 'GK'].groupby(['Name', 'Position','Club'])['Perc_Passes_Completed'].mean().sort_values(ascending=True)[:10]\n"
   ]
  },
  {
   "cell_type": "code",
   "execution_count": 37,
   "metadata": {},
   "outputs": [
    {
     "data": {
      "text/plain": [
       "77.97460317460312"
      ]
     },
     "execution_count": 37,
     "metadata": {},
     "output_type": "execute_result"
    }
   ],
   "source": [
    "# The mean percentage of passes completed for the players that have played at least, 70% of the matches.\n",
    "mean_Perc_Passes_Completed = new_df['Perc_Passes_Completed'].mean()\n",
    "mean_Perc_Passes_Completed"
   ]
  },
  {
   "cell_type": "code",
   "execution_count": 38,
   "metadata": {},
   "outputs": [
    {
     "data": {
      "text/plain": [
       "Name               Position  Club                   \n",
       "Alisson            GK        Liverpool FC               85.2\n",
       "Edouard Mendy      GK        Chelsea                    84.6\n",
       "Ederson            GK        Manchester City            83.1\n",
       "Illan Meslier      GK        Leeds United               80.9\n",
       "Bernd Leno         GK        Arsenal                    79.8\n",
       "Alphonse Areola    GK        Fulham                     73.6\n",
       "Kasper Schmeichel  GK        Leicester City             72.7\n",
       "Robert Sánchez     GK        Brighton                   71.6\n",
       "Hugo Lloris        GK        Tottenham Hotspur          71.5\n",
       "Rui Patrício       GK        Wolverhampton Wanderers    66.7\n",
       "Jordan Pickford    GK        Everton                    66.1\n",
       "Emiliano Martínez  GK        Aston Villa                65.6\n",
       "Alex McCarthy      GK        Southampton                64.3\n",
       "Łukasz Fabiański   GK        West Ham United            60.5\n",
       "Vicente Guaita     GK        Crystal Palace             55.4\n",
       "Nick Pope          GK        Burnley                    50.7\n",
       "Sam Johnstone      GK        West Bromwich Albion       49.9\n",
       "Aaron Ramsdale     GK        Sheffield United           49.1\n",
       "Name: Perc_Passes_Completed, dtype: float64"
      ]
     },
     "execution_count": 38,
     "metadata": {},
     "output_type": "execute_result"
    }
   ],
   "source": [
    "# Let's see the actual percentages of passes completed for each goalkeeper that have played at least 70% of the matches\n",
    "new_df[new_df['Position'] == 'GK'].groupby(['Name', 'Position','Club'])['Perc_Passes_Completed'].mean().sort_values(ascending=False)\n"
   ]
  },
  {
   "cell_type": "code",
   "execution_count": 39,
   "metadata": {},
   "outputs": [
    {
     "data": {
      "text/plain": [
       "Name               Position  Club                   \n",
       "Alisson            GK        Liverpool FC                True\n",
       "Edouard Mendy      GK        Chelsea                     True\n",
       "Ederson            GK        Manchester City             True\n",
       "Illan Meslier      GK        Leeds United                True\n",
       "Bernd Leno         GK        Arsenal                     True\n",
       "Alphonse Areola    GK        Fulham                     False\n",
       "Kasper Schmeichel  GK        Leicester City             False\n",
       "Robert Sánchez     GK        Brighton                   False\n",
       "Hugo Lloris        GK        Tottenham Hotspur          False\n",
       "Rui Patrício       GK        Wolverhampton Wanderers    False\n",
       "Jordan Pickford    GK        Everton                    False\n",
       "Emiliano Martínez  GK        Aston Villa                False\n",
       "Alex McCarthy      GK        Southampton                False\n",
       "Łukasz Fabiański   GK        West Ham United            False\n",
       "Vicente Guaita     GK        Crystal Palace             False\n",
       "Nick Pope          GK        Burnley                    False\n",
       "Sam Johnstone      GK        West Bromwich Albion       False\n",
       "Aaron Ramsdale     GK        Sheffield United           False\n",
       "Name: Perc_Passes_Completed, dtype: bool"
      ]
     },
     "execution_count": 39,
     "metadata": {},
     "output_type": "execute_result"
    }
   ],
   "source": [
    "# Now we can see which goalkeepers got a percentage of passes completed above the average\n",
    "new_df[new_df['Position'] == 'GK'].groupby(['Name', 'Position','Club'])['Perc_Passes_Completed'].mean().sort_values(ascending=False) >= mean_Perc_Passes_Completed\n",
    "\n"
   ]
  },
  {
   "cell_type": "markdown",
   "metadata": {},
   "source": [
    "##### Answer to question #3\n",
    "\n",
    "Answering the question number 3 gave me some interesting results that I thought were exactly the opposite, for example, I thought that the defenders and the goalkeepers were the positions that got the highest percentage of passes completed, since they usually passes the ball to players that are near them, and although my first thought was in this direction, the truth is that the midfielders were the position that got the highest percentage, with almost 81%, nearly followed by the defenders with 80%, and then by the forwards, which only got about 73%.\n",
    "\n",
    "When we see this statistic by club, we see that the top 3 is kind of what we would expect, since they are all big clubs that tend to maintain the possession of the ball, but following along the table, I found interesting that a big club like Tottenham Hotspur only figured in the 13th position.\n",
    "\n",
    "I also analysed the statistic by players, in order to see which of them had the highest and lowest percentages, and regarding the highest, we can see an interesting fact, in the top 10, only 3 players do not belong to the top 3 clubs, and from these players, only Lewis Dunk, from Brighton plays for a club that is not considered to be in the big six of Englans (Manchester City, Manchester United, Arsenal, Tottenham, Chelsea, and Liverpool).\n",
    "\n",
    "And regarding the players that had the lowest percentage of passes completed, I first saw the data for the lowest 10 players that played at least 70% of the matches, and I noticed that from this visualization, only 3 players were not goalkeepers, so I decided to separate them, in order to see what happens.\n",
    "\n",
    "When I did not considered the goalkeepers, I found that the 10 lowest percentages are from players that belong to small and medium size clubs, which is mostly likely what we expect to be.\n",
    "\n",
    "To finish, I analysed the goalkeepers, and I found that only 5 out of 18 sits above the average percentage of passes completed, and here I would like to highlight the impressive percentage of passes completed by the Leeds United goalkeeper, Illan Meslier, which is the only goalkeeper to have a percentage above the average that does not plays for a England big six club.\n"
   ]
  },
  {
   "cell_type": "markdown",
   "metadata": {},
   "source": [
    "### Question #4\n",
    "> What are the players that scored more goals? What are the players that did better and worse comparing their actual goals scored and the expected goals?"
   ]
  },
  {
   "cell_type": "code",
   "execution_count": 40,
   "metadata": {},
   "outputs": [
    {
     "data": {
      "text/plain": [
       "Name                   Club             \n",
       "Harry Kane             Tottenham Hotspur    23\n",
       "Mohamed Salah          Liverpool FC         22\n",
       "Bruno Fernandes        Manchester United    18\n",
       "Son Heung-min          Tottenham Hotspur    17\n",
       "Patrick Bamford        Leeds United         17\n",
       "Dominic Calvert-Lewin  Everton              16\n",
       "Jamie Vardy            Leicester City       15\n",
       "Ollie Watkins          Aston Villa          14\n",
       "İlkay Gündoğan         Manchester City      13\n",
       "Alexandre Lacazette    Arsenal              13\n",
       "Name: Goals, dtype: int64"
      ]
     },
     "execution_count": 40,
     "metadata": {},
     "output_type": "execute_result"
    }
   ],
   "source": [
    "# let's consider only players that have played at least 70% of their club matches for the entire question\n",
    "new_df.groupby(['Name', 'Club'])['Goals'].sum().sort_values(ascending=False)[:10]"
   ]
  },
  {
   "cell_type": "markdown",
   "metadata": {},
   "source": [
    "**Note**\n",
    ">Surprinsigly, we have two Tottenham players here, and considering that they are only the 13th team that completes more passes, we can immagine that they play on a fast and direct way."
   ]
  },
  {
   "cell_type": "code",
   "execution_count": 41,
   "metadata": {},
   "outputs": [
    {
     "name": "stdout",
     "output_type": "stream",
     "text": [
      "The rate of Tottenham goals that were scored by either Kane or Son is 61.0%\n"
     ]
    }
   ],
   "source": [
    "# What is the rate of Tottenham Goals that were scored by either Harry Kane or Son Houng-min?\n",
    "print('The rate of Tottenham goals that were scored by either Kane or Son is {}%'.format(round((df[(df['Name'] == 'Harry Kane') | (df['Name'] == 'Son Heung-min')]['Goals'].sum() / df[df['Club'] == 'Tottenham Hotspur']['Goals'].sum())*100),2))\n",
    "\n"
   ]
  },
  {
   "cell_type": "markdown",
   "metadata": {},
   "source": [
    "**Note**\n",
    ">Here we can see the impact that only two players have in the whole team, and although Tottenham is far from what we would expect in terms of passes completed, we can easily say that both Kane and Son did really well in the league this season."
   ]
  },
  {
   "cell_type": "code",
   "execution_count": 42,
   "metadata": {},
   "outputs": [
    {
     "data": {
      "text/plain": [
       "Name                   Club             \n",
       "Jamie Vardy            Leicester City       0.62\n",
       "Mohamed Salah          Liverpool FC         0.61\n",
       "Harry Kane             Tottenham Hotspur    0.60\n",
       "Patrick Bamford        Leeds United         0.51\n",
       "Sadio Mané             Liverpool FC         0.49\n",
       "Dominic Calvert-Lewin  Everton              0.48\n",
       "Neal Maupay            Brighton             0.46\n",
       "Alexandre Lacazette    Arsenal              0.46\n",
       "Bruno Fernandes        Manchester United    0.45\n",
       "Anwar El Ghazi         Aston Villa          0.45\n",
       "Name: xG, dtype: float64"
      ]
     },
     "execution_count": 42,
     "metadata": {},
     "output_type": "execute_result"
    }
   ],
   "source": [
    "# Let's see what are the players that have the higher expect goals\n",
    "new_df.groupby(['Name', 'Club'])['xG'].mean().sort_values(ascending=False)[:10]"
   ]
  },
  {
   "cell_type": "code",
   "execution_count": 43,
   "metadata": {},
   "outputs": [
    {
     "name": "stderr",
     "output_type": "stream",
     "text": [
      "/Users/guilhermemello/opt/anaconda3/lib/python3.7/site-packages/ipykernel_launcher.py:4: SettingWithCopyWarning: \n",
      "A value is trying to be set on a copy of a slice from a DataFrame.\n",
      "Try using .loc[row_indexer,col_indexer] = value instead\n",
      "\n",
      "See the caveats in the documentation: http://pandas.pydata.org/pandas-docs/stable/user_guide/indexing.html#returning-a-view-versus-a-copy\n",
      "  after removing the cwd from sys.path.\n"
     ]
    },
    {
     "data": {
      "text/html": [
       "<div>\n",
       "<style scoped>\n",
       "    .dataframe tbody tr th:only-of-type {\n",
       "        vertical-align: middle;\n",
       "    }\n",
       "\n",
       "    .dataframe tbody tr th {\n",
       "        vertical-align: top;\n",
       "    }\n",
       "\n",
       "    .dataframe thead th {\n",
       "        text-align: right;\n",
       "    }\n",
       "</style>\n",
       "<table border=\"1\" class=\"dataframe\">\n",
       "  <thead>\n",
       "    <tr style=\"text-align: right;\">\n",
       "      <th></th>\n",
       "      <th>Name</th>\n",
       "      <th>Club</th>\n",
       "      <th>Nationality</th>\n",
       "      <th>Position</th>\n",
       "      <th>Age</th>\n",
       "      <th>Matches</th>\n",
       "      <th>Starts</th>\n",
       "      <th>Mins</th>\n",
       "      <th>Goals</th>\n",
       "      <th>Assists</th>\n",
       "      <th>Passes_Attempted</th>\n",
       "      <th>Perc_Passes_Completed</th>\n",
       "      <th>Penalty_Goals</th>\n",
       "      <th>Penalty_Attempted</th>\n",
       "      <th>xG</th>\n",
       "      <th>xA</th>\n",
       "      <th>Yellow_Cards</th>\n",
       "      <th>Red_Cards</th>\n",
       "      <th>xG_Total</th>\n",
       "      <th>Goal_Rate</th>\n",
       "    </tr>\n",
       "  </thead>\n",
       "  <tbody>\n",
       "    <tr>\n",
       "      <td>0</td>\n",
       "      <td>Mason Mount</td>\n",
       "      <td>Chelsea</td>\n",
       "      <td>ENG</td>\n",
       "      <td>MF</td>\n",
       "      <td>21</td>\n",
       "      <td>36</td>\n",
       "      <td>32</td>\n",
       "      <td>2890</td>\n",
       "      <td>6</td>\n",
       "      <td>5</td>\n",
       "      <td>1881</td>\n",
       "      <td>82.3</td>\n",
       "      <td>1</td>\n",
       "      <td>1</td>\n",
       "      <td>0.21</td>\n",
       "      <td>0.24</td>\n",
       "      <td>2</td>\n",
       "      <td>0</td>\n",
       "      <td>7.56</td>\n",
       "      <td>0.166667</td>\n",
       "    </tr>\n",
       "    <tr>\n",
       "      <td>1</td>\n",
       "      <td>Edouard Mendy</td>\n",
       "      <td>Chelsea</td>\n",
       "      <td>SEN</td>\n",
       "      <td>GK</td>\n",
       "      <td>28</td>\n",
       "      <td>31</td>\n",
       "      <td>31</td>\n",
       "      <td>2745</td>\n",
       "      <td>0</td>\n",
       "      <td>0</td>\n",
       "      <td>1007</td>\n",
       "      <td>84.6</td>\n",
       "      <td>0</td>\n",
       "      <td>0</td>\n",
       "      <td>0.00</td>\n",
       "      <td>0.00</td>\n",
       "      <td>2</td>\n",
       "      <td>0</td>\n",
       "      <td>0.00</td>\n",
       "      <td>0.000000</td>\n",
       "    </tr>\n",
       "    <tr>\n",
       "      <td>2</td>\n",
       "      <td>Timo Werner</td>\n",
       "      <td>Chelsea</td>\n",
       "      <td>GER</td>\n",
       "      <td>FW</td>\n",
       "      <td>24</td>\n",
       "      <td>35</td>\n",
       "      <td>29</td>\n",
       "      <td>2602</td>\n",
       "      <td>6</td>\n",
       "      <td>8</td>\n",
       "      <td>826</td>\n",
       "      <td>77.2</td>\n",
       "      <td>0</td>\n",
       "      <td>0</td>\n",
       "      <td>0.41</td>\n",
       "      <td>0.21</td>\n",
       "      <td>2</td>\n",
       "      <td>0</td>\n",
       "      <td>14.35</td>\n",
       "      <td>0.171429</td>\n",
       "    </tr>\n",
       "  </tbody>\n",
       "</table>\n",
       "</div>"
      ],
      "text/plain": [
       "            Name     Club Nationality Position  Age  Matches  Starts  Mins  \\\n",
       "0    Mason Mount  Chelsea         ENG       MF   21       36      32  2890   \n",
       "1  Edouard Mendy  Chelsea         SEN       GK   28       31      31  2745   \n",
       "2    Timo Werner  Chelsea         GER       FW   24       35      29  2602   \n",
       "\n",
       "   Goals  Assists  Passes_Attempted  Perc_Passes_Completed  Penalty_Goals  \\\n",
       "0      6        5              1881                   82.3              1   \n",
       "1      0        0              1007                   84.6              0   \n",
       "2      6        8               826                   77.2              0   \n",
       "\n",
       "   Penalty_Attempted    xG    xA  Yellow_Cards  Red_Cards  xG_Total  Goal_Rate  \n",
       "0                  1  0.21  0.24             2          0      7.56   0.166667  \n",
       "1                  0  0.00  0.00             2          0      0.00   0.000000  \n",
       "2                  0  0.41  0.21             2          0     14.35   0.171429  "
      ]
     },
     "execution_count": 43,
     "metadata": {},
     "output_type": "execute_result"
    }
   ],
   "source": [
    "# Since this value alone does not give us much information, let's transform the data in order to see if we\n",
    "# get some insights ...\n",
    "# Creating a Goal_Rate column\n",
    "new_df['Goal_Rate'] = new_df['Goals'] / new_df['Matches']\n",
    "new_df.head(3)"
   ]
  },
  {
   "cell_type": "markdown",
   "metadata": {},
   "source": [
    "**Note**\n",
    "> Here we can also use the column that were created later in this notebook, which is the Total number of expected goals by player, the `xG_Total` column."
   ]
  },
  {
   "cell_type": "code",
   "execution_count": 44,
   "metadata": {},
   "outputs": [
    {
     "data": {
      "text/html": [
       "<div>\n",
       "<style scoped>\n",
       "    .dataframe tbody tr th:only-of-type {\n",
       "        vertical-align: middle;\n",
       "    }\n",
       "\n",
       "    .dataframe tbody tr th {\n",
       "        vertical-align: top;\n",
       "    }\n",
       "\n",
       "    .dataframe thead th {\n",
       "        text-align: right;\n",
       "    }\n",
       "</style>\n",
       "<table border=\"1\" class=\"dataframe\">\n",
       "  <thead>\n",
       "    <tr style=\"text-align: right;\">\n",
       "      <th></th>\n",
       "      <th>Name</th>\n",
       "      <th>Club</th>\n",
       "      <th>Nationality</th>\n",
       "      <th>Position</th>\n",
       "      <th>Age</th>\n",
       "      <th>Matches</th>\n",
       "      <th>Starts</th>\n",
       "      <th>Mins</th>\n",
       "      <th>Goals</th>\n",
       "      <th>Assists</th>\n",
       "      <th>Passes_Attempted</th>\n",
       "      <th>Perc_Passes_Completed</th>\n",
       "      <th>Penalty_Goals</th>\n",
       "      <th>Penalty_Attempted</th>\n",
       "      <th>xG</th>\n",
       "      <th>xA</th>\n",
       "      <th>Yellow_Cards</th>\n",
       "      <th>Red_Cards</th>\n",
       "      <th>xG_Total</th>\n",
       "      <th>Goal_Rate</th>\n",
       "    </tr>\n",
       "  </thead>\n",
       "  <tbody>\n",
       "    <tr>\n",
       "      <td>0</td>\n",
       "      <td>Mason Mount</td>\n",
       "      <td>Chelsea</td>\n",
       "      <td>ENG</td>\n",
       "      <td>MF</td>\n",
       "      <td>21</td>\n",
       "      <td>36</td>\n",
       "      <td>32</td>\n",
       "      <td>2890</td>\n",
       "      <td>6</td>\n",
       "      <td>5</td>\n",
       "      <td>1881</td>\n",
       "      <td>82.3</td>\n",
       "      <td>1</td>\n",
       "      <td>1</td>\n",
       "      <td>0.21</td>\n",
       "      <td>0.24</td>\n",
       "      <td>2</td>\n",
       "      <td>0</td>\n",
       "      <td>7.56</td>\n",
       "      <td>0.166667</td>\n",
       "    </tr>\n",
       "    <tr>\n",
       "      <td>1</td>\n",
       "      <td>Edouard Mendy</td>\n",
       "      <td>Chelsea</td>\n",
       "      <td>SEN</td>\n",
       "      <td>GK</td>\n",
       "      <td>28</td>\n",
       "      <td>31</td>\n",
       "      <td>31</td>\n",
       "      <td>2745</td>\n",
       "      <td>0</td>\n",
       "      <td>0</td>\n",
       "      <td>1007</td>\n",
       "      <td>84.6</td>\n",
       "      <td>0</td>\n",
       "      <td>0</td>\n",
       "      <td>0.00</td>\n",
       "      <td>0.00</td>\n",
       "      <td>2</td>\n",
       "      <td>0</td>\n",
       "      <td>0.00</td>\n",
       "      <td>0.000000</td>\n",
       "    </tr>\n",
       "    <tr>\n",
       "      <td>2</td>\n",
       "      <td>Timo Werner</td>\n",
       "      <td>Chelsea</td>\n",
       "      <td>GER</td>\n",
       "      <td>FW</td>\n",
       "      <td>24</td>\n",
       "      <td>35</td>\n",
       "      <td>29</td>\n",
       "      <td>2602</td>\n",
       "      <td>6</td>\n",
       "      <td>8</td>\n",
       "      <td>826</td>\n",
       "      <td>77.2</td>\n",
       "      <td>0</td>\n",
       "      <td>0</td>\n",
       "      <td>0.41</td>\n",
       "      <td>0.21</td>\n",
       "      <td>2</td>\n",
       "      <td>0</td>\n",
       "      <td>14.35</td>\n",
       "      <td>0.171429</td>\n",
       "    </tr>\n",
       "  </tbody>\n",
       "</table>\n",
       "</div>"
      ],
      "text/plain": [
       "            Name     Club Nationality Position  Age  Matches  Starts  Mins  \\\n",
       "0    Mason Mount  Chelsea         ENG       MF   21       36      32  2890   \n",
       "1  Edouard Mendy  Chelsea         SEN       GK   28       31      31  2745   \n",
       "2    Timo Werner  Chelsea         GER       FW   24       35      29  2602   \n",
       "\n",
       "   Goals  Assists  Passes_Attempted  Perc_Passes_Completed  Penalty_Goals  \\\n",
       "0      6        5              1881                   82.3              1   \n",
       "1      0        0              1007                   84.6              0   \n",
       "2      6        8               826                   77.2              0   \n",
       "\n",
       "   Penalty_Attempted    xG    xA  Yellow_Cards  Red_Cards  xG_Total  Goal_Rate  \n",
       "0                  1  0.21  0.24             2          0      7.56   0.166667  \n",
       "1                  0  0.00  0.00             2          0      0.00   0.000000  \n",
       "2                  0  0.41  0.21             2          0     14.35   0.171429  "
      ]
     },
     "execution_count": 44,
     "metadata": {},
     "output_type": "execute_result"
    }
   ],
   "source": [
    "#Inspecting the column\n",
    "new_df.head(3)"
   ]
  },
  {
   "cell_type": "code",
   "execution_count": 45,
   "metadata": {},
   "outputs": [
    {
     "data": {
      "text/html": [
       "<div>\n",
       "<style scoped>\n",
       "    .dataframe tbody tr th:only-of-type {\n",
       "        vertical-align: middle;\n",
       "    }\n",
       "\n",
       "    .dataframe tbody tr th {\n",
       "        vertical-align: top;\n",
       "    }\n",
       "\n",
       "    .dataframe thead th {\n",
       "        text-align: right;\n",
       "    }\n",
       "</style>\n",
       "<table border=\"1\" class=\"dataframe\">\n",
       "  <thead>\n",
       "    <tr style=\"text-align: right;\">\n",
       "      <th></th>\n",
       "      <th></th>\n",
       "      <th>Goal_Rate</th>\n",
       "      <th>xG</th>\n",
       "      <th>Goals</th>\n",
       "      <th>xG_Total</th>\n",
       "    </tr>\n",
       "    <tr>\n",
       "      <th>Name</th>\n",
       "      <th>Club</th>\n",
       "      <th></th>\n",
       "      <th></th>\n",
       "      <th></th>\n",
       "      <th></th>\n",
       "    </tr>\n",
       "  </thead>\n",
       "  <tbody>\n",
       "    <tr>\n",
       "      <td>Harry Kane</td>\n",
       "      <td>Tottenham Hotspur</td>\n",
       "      <td>0.657143</td>\n",
       "      <td>0.60</td>\n",
       "      <td>23</td>\n",
       "      <td>21.00</td>\n",
       "    </tr>\n",
       "    <tr>\n",
       "      <td>Mohamed Salah</td>\n",
       "      <td>Liverpool FC</td>\n",
       "      <td>0.594595</td>\n",
       "      <td>0.61</td>\n",
       "      <td>22</td>\n",
       "      <td>22.57</td>\n",
       "    </tr>\n",
       "    <tr>\n",
       "      <td>Bruno Fernandes</td>\n",
       "      <td>Manchester United</td>\n",
       "      <td>0.486486</td>\n",
       "      <td>0.45</td>\n",
       "      <td>18</td>\n",
       "      <td>16.65</td>\n",
       "    </tr>\n",
       "    <tr>\n",
       "      <td>Dominic Calvert-Lewin</td>\n",
       "      <td>Everton</td>\n",
       "      <td>0.484848</td>\n",
       "      <td>0.48</td>\n",
       "      <td>16</td>\n",
       "      <td>15.84</td>\n",
       "    </tr>\n",
       "    <tr>\n",
       "      <td>İlkay Gündoğan</td>\n",
       "      <td>Manchester City</td>\n",
       "      <td>0.464286</td>\n",
       "      <td>0.40</td>\n",
       "      <td>13</td>\n",
       "      <td>11.20</td>\n",
       "    </tr>\n",
       "    <tr>\n",
       "      <td>Son Heung-min</td>\n",
       "      <td>Tottenham Hotspur</td>\n",
       "      <td>0.459459</td>\n",
       "      <td>0.30</td>\n",
       "      <td>17</td>\n",
       "      <td>11.10</td>\n",
       "    </tr>\n",
       "    <tr>\n",
       "      <td>Patrick Bamford</td>\n",
       "      <td>Leeds United</td>\n",
       "      <td>0.447368</td>\n",
       "      <td>0.51</td>\n",
       "      <td>17</td>\n",
       "      <td>19.38</td>\n",
       "    </tr>\n",
       "    <tr>\n",
       "      <td>Jamie Vardy</td>\n",
       "      <td>Leicester City</td>\n",
       "      <td>0.441176</td>\n",
       "      <td>0.62</td>\n",
       "      <td>15</td>\n",
       "      <td>21.08</td>\n",
       "    </tr>\n",
       "    <tr>\n",
       "      <td>Alexandre Lacazette</td>\n",
       "      <td>Arsenal</td>\n",
       "      <td>0.419355</td>\n",
       "      <td>0.46</td>\n",
       "      <td>13</td>\n",
       "      <td>14.26</td>\n",
       "    </tr>\n",
       "    <tr>\n",
       "      <td>Danny Ings</td>\n",
       "      <td>Southampton</td>\n",
       "      <td>0.413793</td>\n",
       "      <td>0.34</td>\n",
       "      <td>12</td>\n",
       "      <td>9.86</td>\n",
       "    </tr>\n",
       "  </tbody>\n",
       "</table>\n",
       "</div>"
      ],
      "text/plain": [
       "                                         Goal_Rate    xG  Goals  xG_Total\n",
       "Name                  Club                                               \n",
       "Harry Kane            Tottenham Hotspur   0.657143  0.60     23     21.00\n",
       "Mohamed Salah         Liverpool FC        0.594595  0.61     22     22.57\n",
       "Bruno Fernandes       Manchester United   0.486486  0.45     18     16.65\n",
       "Dominic Calvert-Lewin Everton             0.484848  0.48     16     15.84\n",
       "İlkay Gündoğan        Manchester City     0.464286  0.40     13     11.20\n",
       "Son Heung-min         Tottenham Hotspur   0.459459  0.30     17     11.10\n",
       "Patrick Bamford       Leeds United        0.447368  0.51     17     19.38\n",
       "Jamie Vardy           Leicester City      0.441176  0.62     15     21.08\n",
       "Alexandre Lacazette   Arsenal             0.419355  0.46     13     14.26\n",
       "Danny Ings            Southampton         0.413793  0.34     12      9.86"
      ]
     },
     "execution_count": 45,
     "metadata": {},
     "output_type": "execute_result"
    }
   ],
   "source": [
    "# Looking at the top 10 players by goal rate\n",
    "new_df.groupby(['Name', 'Club'])['Goal_Rate', 'xG', 'Goals', 'xG_Total'].mean().sort_values(by='Goal_Rate',ascending=False)[:10]\n",
    "\n"
   ]
  },
  {
   "cell_type": "code",
   "execution_count": 46,
   "metadata": {},
   "outputs": [
    {
     "data": {
      "image/png": "[encoded data removed]",
      "text/plain": [
       "<Figure size 864x432 with 1 Axes>"
      ]
     },
     "metadata": {
      "needs_background": "light"
     },
     "output_type": "display_data"
    }
   ],
   "source": [
    "new_df.groupby(['Name', 'Club'])['Goal_Rate'].mean().sort_values(ascending=False)[:20].plot.bar(figsize=(12,6));\n",
    "plt.title('The top 20 players by goal rate');\n",
    "plt.ylabel('Goals per Game played (Rate)');\n",
    "plt.xlabel('Players and Club');\n"
   ]
  },
  {
   "cell_type": "markdown",
   "metadata": {},
   "source": [
    "**Note**\n",
    "> We can see that the top three scorers in absolute number of goals are also the top three when we look at the rate of goals, and an insight here is regarding the midfielder Ikay Gundogan, which has the fifth higher goal rate, but appears only in the 9th place in the absolute number of goals. Maybe he deverved more games to play?\n",
    "\n",
    "**Note**\n",
    "\n",
    "> From now we can get some insight from the data, and here I will create a column that holds the difference between the actual goals a player scored and the expected total goals for that player, so we can see what players did better than expected and what players did worse."
   ]
  },
  {
   "cell_type": "code",
   "execution_count": 47,
   "metadata": {},
   "outputs": [
    {
     "name": "stderr",
     "output_type": "stream",
     "text": [
      "/Users/guilhermemello/opt/anaconda3/lib/python3.7/site-packages/ipykernel_launcher.py:2: SettingWithCopyWarning: \n",
      "A value is trying to be set on a copy of a slice from a DataFrame.\n",
      "Try using .loc[row_indexer,col_indexer] = value instead\n",
      "\n",
      "See the caveats in the documentation: http://pandas.pydata.org/pandas-docs/stable/user_guide/indexing.html#returning-a-view-versus-a-copy\n",
      "  \n"
     ]
    },
    {
     "data": {
      "text/html": [
       "<div>\n",
       "<style scoped>\n",
       "    .dataframe tbody tr th:only-of-type {\n",
       "        vertical-align: middle;\n",
       "    }\n",
       "\n",
       "    .dataframe tbody tr th {\n",
       "        vertical-align: top;\n",
       "    }\n",
       "\n",
       "    .dataframe thead th {\n",
       "        text-align: right;\n",
       "    }\n",
       "</style>\n",
       "<table border=\"1\" class=\"dataframe\">\n",
       "  <thead>\n",
       "    <tr style=\"text-align: right;\">\n",
       "      <th></th>\n",
       "      <th>Name</th>\n",
       "      <th>Club</th>\n",
       "      <th>Nationality</th>\n",
       "      <th>Position</th>\n",
       "      <th>Age</th>\n",
       "      <th>Matches</th>\n",
       "      <th>Starts</th>\n",
       "      <th>Mins</th>\n",
       "      <th>Goals</th>\n",
       "      <th>Assists</th>\n",
       "      <th>...</th>\n",
       "      <th>Perc_Passes_Completed</th>\n",
       "      <th>Penalty_Goals</th>\n",
       "      <th>Penalty_Attempted</th>\n",
       "      <th>xG</th>\n",
       "      <th>xA</th>\n",
       "      <th>Yellow_Cards</th>\n",
       "      <th>Red_Cards</th>\n",
       "      <th>xG_Total</th>\n",
       "      <th>Goal_Rate</th>\n",
       "      <th>Goals_diff</th>\n",
       "    </tr>\n",
       "  </thead>\n",
       "  <tbody>\n",
       "    <tr>\n",
       "      <td>0</td>\n",
       "      <td>Mason Mount</td>\n",
       "      <td>Chelsea</td>\n",
       "      <td>ENG</td>\n",
       "      <td>MF</td>\n",
       "      <td>21</td>\n",
       "      <td>36</td>\n",
       "      <td>32</td>\n",
       "      <td>2890</td>\n",
       "      <td>6</td>\n",
       "      <td>5</td>\n",
       "      <td>...</td>\n",
       "      <td>82.3</td>\n",
       "      <td>1</td>\n",
       "      <td>1</td>\n",
       "      <td>0.21</td>\n",
       "      <td>0.24</td>\n",
       "      <td>2</td>\n",
       "      <td>0</td>\n",
       "      <td>7.56</td>\n",
       "      <td>0.166667</td>\n",
       "      <td>-1.56</td>\n",
       "    </tr>\n",
       "    <tr>\n",
       "      <td>1</td>\n",
       "      <td>Edouard Mendy</td>\n",
       "      <td>Chelsea</td>\n",
       "      <td>SEN</td>\n",
       "      <td>GK</td>\n",
       "      <td>28</td>\n",
       "      <td>31</td>\n",
       "      <td>31</td>\n",
       "      <td>2745</td>\n",
       "      <td>0</td>\n",
       "      <td>0</td>\n",
       "      <td>...</td>\n",
       "      <td>84.6</td>\n",
       "      <td>0</td>\n",
       "      <td>0</td>\n",
       "      <td>0.00</td>\n",
       "      <td>0.00</td>\n",
       "      <td>2</td>\n",
       "      <td>0</td>\n",
       "      <td>0.00</td>\n",
       "      <td>0.000000</td>\n",
       "      <td>0.00</td>\n",
       "    </tr>\n",
       "    <tr>\n",
       "      <td>2</td>\n",
       "      <td>Timo Werner</td>\n",
       "      <td>Chelsea</td>\n",
       "      <td>GER</td>\n",
       "      <td>FW</td>\n",
       "      <td>24</td>\n",
       "      <td>35</td>\n",
       "      <td>29</td>\n",
       "      <td>2602</td>\n",
       "      <td>6</td>\n",
       "      <td>8</td>\n",
       "      <td>...</td>\n",
       "      <td>77.2</td>\n",
       "      <td>0</td>\n",
       "      <td>0</td>\n",
       "      <td>0.41</td>\n",
       "      <td>0.21</td>\n",
       "      <td>2</td>\n",
       "      <td>0</td>\n",
       "      <td>14.35</td>\n",
       "      <td>0.171429</td>\n",
       "      <td>-8.35</td>\n",
       "    </tr>\n",
       "  </tbody>\n",
       "</table>\n",
       "<p>3 rows × 21 columns</p>\n",
       "</div>"
      ],
      "text/plain": [
       "            Name     Club Nationality Position  Age  Matches  Starts  Mins  \\\n",
       "0    Mason Mount  Chelsea         ENG       MF   21       36      32  2890   \n",
       "1  Edouard Mendy  Chelsea         SEN       GK   28       31      31  2745   \n",
       "2    Timo Werner  Chelsea         GER       FW   24       35      29  2602   \n",
       "\n",
       "   Goals  Assists  ...  Perc_Passes_Completed  Penalty_Goals  \\\n",
       "0      6        5  ...                   82.3              1   \n",
       "1      0        0  ...                   84.6              0   \n",
       "2      6        8  ...                   77.2              0   \n",
       "\n",
       "   Penalty_Attempted    xG    xA  Yellow_Cards  Red_Cards  xG_Total  \\\n",
       "0                  1  0.21  0.24             2          0      7.56   \n",
       "1                  0  0.00  0.00             2          0      0.00   \n",
       "2                  0  0.41  0.21             2          0     14.35   \n",
       "\n",
       "   Goal_Rate  Goals_diff  \n",
       "0   0.166667       -1.56  \n",
       "1   0.000000        0.00  \n",
       "2   0.171429       -8.35  \n",
       "\n",
       "[3 rows x 21 columns]"
      ]
     },
     "execution_count": 47,
     "metadata": {},
     "output_type": "execute_result"
    }
   ],
   "source": [
    "# Creating the column mentioned above\n",
    "new_df['Goals_diff'] = new_df['Goals'] - new_df['xG_Total']\n",
    "new_df.head(3)"
   ]
  },
  {
   "cell_type": "code",
   "execution_count": 48,
   "metadata": {},
   "outputs": [
    {
     "data": {
      "text/plain": [
       "Name               Club                \n",
       "Son Heung-min      Tottenham Hotspur       5.90\n",
       "Stuart Dallas      Leeds United            3.44\n",
       "Wilfried Zaha      Crystal Palace          3.20\n",
       "Matheus Pereira    West Bromwich Albion    2.75\n",
       "James Ward-Prowse  Southampton             2.68\n",
       "Lewis Dunk         Brighton                2.36\n",
       "Danny Ings         Southampton             2.14\n",
       "James Maddison     Leicester City          2.11\n",
       "Harry Kane         Tottenham Hotspur       2.00\n",
       "Riyad Mahrez       Manchester City         1.98\n",
       "Name: Goals_diff, dtype: float64"
      ]
     },
     "execution_count": 48,
     "metadata": {},
     "output_type": "execute_result"
    }
   ],
   "source": [
    "# The players that did better than expected in terms of goals\n",
    "new_df.groupby(['Name', 'Club'])['Goals_diff'].sum().sort_values(ascending=False)[:10]"
   ]
  },
  {
   "cell_type": "code",
   "execution_count": 49,
   "metadata": {},
   "outputs": [
    {
     "data": {
      "image/png": "[encoded data removed]",
      "text/plain": [
       "<Figure size 864x432 with 1 Axes>"
      ]
     },
     "metadata": {
      "needs_background": "light"
     },
     "output_type": "display_data"
    }
   ],
   "source": [
    "new_df.groupby(['Name', 'Club'])['Goals_diff'].sum().sort_values(ascending=False)[:20].plot.bar(figsize=(12,6));\n",
    "plt.title('The Difference between goals scored and expected goals for the top 20 players that had the highest goals difference');\n",
    "plt.ylabel('Difference between goals scored and expected goals');\n",
    "plt.xlabel('Player and Club');\n",
    "\n",
    "\n"
   ]
  },
  {
   "cell_type": "markdown",
   "metadata": {},
   "source": [
    "**Note**\n",
    "> This graph shows us the difference between actual goals scored by players and what was the expected goals for them. So this implies that these are the top 20 players that have the better than expected performance in the league this season, when we focus on goals."
   ]
  },
  {
   "cell_type": "code",
   "execution_count": 50,
   "metadata": {},
   "outputs": [
    {
     "data": {
      "text/plain": [
       "Name                 Club                   \n",
       "Richarlison          Everton                   -5.24\n",
       "Roberto Firmino      Liverpool FC              -5.40\n",
       "Kai Havertz          Chelsea                   -5.99\n",
       "Jamie Vardy          Leicester City            -6.08\n",
       "Sadio Mané           Liverpool FC              -6.15\n",
       "Neal Maupay          Brighton                  -7.18\n",
       "Matěj Vydra          Burnley                   -8.20\n",
       "Aleksandar Mitrović  Fulham                    -8.34\n",
       "Timo Werner          Chelsea                   -8.35\n",
       "Fábio Silva          Wolverhampton Wanderers   -8.80\n",
       "Name: Goals_diff, dtype: float64"
      ]
     },
     "execution_count": 50,
     "metadata": {},
     "output_type": "execute_result"
    }
   ],
   "source": [
    "# But what are the players that did worse than expected from them in terms of goals?\n",
    "new_df.groupby(['Name', 'Club'])['Goals_diff'].sum().sort_values(ascending=False)[-10:]"
   ]
  },
  {
   "cell_type": "code",
   "execution_count": 51,
   "metadata": {},
   "outputs": [
    {
     "data": {
      "image/png": "[encoded data removed]",
      "text/plain": [
       "<Figure size 864x432 with 1 Axes>"
      ]
     },
     "metadata": {
      "needs_background": "light"
     },
     "output_type": "display_data"
    }
   ],
   "source": [
    "new_df.groupby(['Name', 'Club'])['Goals_diff'].sum().sort_values(ascending=False)[-20:].plot.barh(figsize=(12,6));\n",
    "plt.title('The Difference between goals scored and expected goals for the bottom 20 players that had the lowest goals difference');\n",
    "plt.ylabel('Player and Club');\n",
    "plt.xlabel('Difference between goals scored and expected goals');\n",
    "\n"
   ]
  },
  {
   "cell_type": "markdown",
   "metadata": {},
   "source": [
    "**Note**\n",
    "> Here we can see what are the players that did worse then expected from them, in terms of goals, and here, I can easily highlight four players, which are `Timo Werner` and `Kai Havertz` from `Chelsea` and `Sadio Mané` and `Roberto Firmino` from `Liverpool`."
   ]
  },
  {
   "cell_type": "code",
   "execution_count": 52,
   "metadata": {},
   "outputs": [
    {
     "data": {
      "text/html": [
       "<div>\n",
       "<style scoped>\n",
       "    .dataframe tbody tr th:only-of-type {\n",
       "        vertical-align: middle;\n",
       "    }\n",
       "\n",
       "    .dataframe tbody tr th {\n",
       "        vertical-align: top;\n",
       "    }\n",
       "\n",
       "    .dataframe thead th {\n",
       "        text-align: right;\n",
       "    }\n",
       "</style>\n",
       "<table border=\"1\" class=\"dataframe\">\n",
       "  <thead>\n",
       "    <tr style=\"text-align: right;\">\n",
       "      <th></th>\n",
       "      <th>Name</th>\n",
       "      <th>Age</th>\n",
       "    </tr>\n",
       "  </thead>\n",
       "  <tbody>\n",
       "    <tr>\n",
       "      <td>2</td>\n",
       "      <td>Timo Werner</td>\n",
       "      <td>24</td>\n",
       "    </tr>\n",
       "    <tr>\n",
       "      <td>13</td>\n",
       "      <td>Kai Havertz</td>\n",
       "      <td>21</td>\n",
       "    </tr>\n",
       "    <tr>\n",
       "      <td>85</td>\n",
       "      <td>Roberto Firmino</td>\n",
       "      <td>28</td>\n",
       "    </tr>\n",
       "    <tr>\n",
       "      <td>86</td>\n",
       "      <td>Sadio Mané</td>\n",
       "      <td>28</td>\n",
       "    </tr>\n",
       "  </tbody>\n",
       "</table>\n",
       "</div>"
      ],
      "text/plain": [
       "               Name  Age\n",
       "2       Timo Werner   24\n",
       "13      Kai Havertz   21\n",
       "85  Roberto Firmino   28\n",
       "86       Sadio Mané   28"
      ]
     },
     "execution_count": 52,
     "metadata": {},
     "output_type": "execute_result"
    }
   ],
   "source": [
    "# What are the ages for these players?\n",
    "new_df[(new_df['Name'] == 'Timo Werner') | (new_df['Name'] == 'Kai Havertz') | (new_df['Name'] == 'Sadio Mané') | (new_df['Name'] == 'Roberto Firmino')][['Name','Age']]\n",
    "\n"
   ]
  },
  {
   "cell_type": "markdown",
   "metadata": {},
   "source": [
    "**Note**\n",
    "> Here we can think if the age influences the fact that these players performed really bad this season, and here we can think of two clusters, for example, the first is regarding players that are young and have a lot of potential to develop, and the other would be players that are reaching the down curve of their careers, but this is a subject for further investigation, as we do not have enough data to do this right now."
   ]
  },
  {
   "cell_type": "markdown",
   "metadata": {},
   "source": [
    "##### Answer to question #4\n",
    "\n",
    "When we look at goals scored, we can see that Harry Kane and Mohamed Salah did really well, finishing the season as the top two goals scorers, but when we transform the data to see some hidden insights, we could also see that some players did really well regarding what were expected from them in terms of goals, and here we can highlight some players, for example, Son Heung-min that plays for Tottenham, Stuart Dallas from Leeds and Wilfried Zaha from Crystal Palace, whcih have the top three differences between goals scored and expected goals scored.\n",
    "\n",
    "Looking at the players that did not perform well this season, we could see some interesting results in the names of Timo Werner from Chelsea that had almost nine goals less than what were expected from him, and Sadio Mané from Liverpool that scored almost seven goals less than what were expected from him."
   ]
  }
 ],
 "metadata": {
  "kernelspec": {
   "display_name": "Python 3",
   "language": "python",
   "name": "python3"
  },
  "language_info": {
   "codemirror_mode": {
    "name": "ipython",
    "version": 3
   },
   "file_extension": ".py",
   "mimetype": "text/x-python",
   "name": "python",
   "nbconvert_exporter": "python",
   "pygments_lexer": "ipython3",
   "version": "3.7.4"
  }
 },
 "nbformat": 4,
 "nbformat_minor": 2
}
